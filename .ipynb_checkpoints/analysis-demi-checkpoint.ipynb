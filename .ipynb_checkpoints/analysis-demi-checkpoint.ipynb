{
 "cells": [
  {
   "cell_type": "code",
   "execution_count": 1,
   "metadata": {},
   "outputs": [
    {
     "data": {
      "text/html": [
       "<script type=\"text/javascript\">window.PlotlyConfig = {MathJaxConfig: 'local'};</script><script type=\"text/javascript\">if (window.MathJax) {MathJax.Hub.Config({SVG: {font: \"STIX-Web\"}});}</script><script>requirejs.config({paths: { 'plotly': ['https://cdn.plot.ly/plotly-latest.min']},});if(!window._Plotly) {require(['plotly'],function(plotly) {window._Plotly=plotly;});}</script>"
      ],
      "text/vnd.plotly.v1+html": [
       "<script type=\"text/javascript\">window.PlotlyConfig = {MathJaxConfig: 'local'};</script><script type=\"text/javascript\">if (window.MathJax) {MathJax.Hub.Config({SVG: {font: \"STIX-Web\"}});}</script><script>requirejs.config({paths: { 'plotly': ['https://cdn.plot.ly/plotly-latest.min']},});if(!window._Plotly) {require(['plotly'],function(plotly) {window._Plotly=plotly;});}</script>"
      ]
     },
     "metadata": {},
     "output_type": "display_data"
    }
   ],
   "source": [
    "%matplotlib inline\n",
    "import matplotlib.pyplot as plt\n",
    "\n",
    "import pandas as pd\n",
    "import numpy as np\n",
    "from sklearn.cluster import KMeans\n",
    "from scipy.spatial.distance import cdist\n",
    "import pylab as pl\n",
    "import seaborn as sns\n",
    "from sklearn.model_selection import train_test_split\n",
    "import statsmodels.api as sm\n",
    "import statsmodels.formula.api as smf\n",
    "\n",
    "\n",
    "\n",
    "# plot\n",
    "import matplotlib.pyplot as plt\n",
    "%matplotlib inline\n",
    "import plotly as py\n",
    "import plotly.graph_objs as go\n",
    "from plotly.offline import download_plotlyjs, init_notebook_mode, plot, iplot\n",
    "init_notebook_mode(connected=True)\n",
    "\n"
   ]
  },
  {
   "cell_type": "code",
   "execution_count": 2,
   "metadata": {},
   "outputs": [],
   "source": [
    "degrees_that_pay = pd.read_csv('data/degrees-that-pay-back.csv')"
   ]
  },
  {
   "cell_type": "code",
   "execution_count": 3,
   "metadata": {},
   "outputs": [
    {
     "data": {
      "text/html": [
       "<div>\n",
       "<style scoped>\n",
       "    .dataframe tbody tr th:only-of-type {\n",
       "        vertical-align: middle;\n",
       "    }\n",
       "\n",
       "    .dataframe tbody tr th {\n",
       "        vertical-align: top;\n",
       "    }\n",
       "\n",
       "    .dataframe thead th {\n",
       "        text-align: right;\n",
       "    }\n",
       "</style>\n",
       "<table border=\"1\" class=\"dataframe\">\n",
       "  <thead>\n",
       "    <tr style=\"text-align: right;\">\n",
       "      <th></th>\n",
       "      <th>Undergraduate Major</th>\n",
       "      <th>Starting Median Salary</th>\n",
       "      <th>Mid-Career Median Salary</th>\n",
       "      <th>Percent change from Starting to Mid-Career Salary</th>\n",
       "      <th>Mid-Career 10th Percentile Salary</th>\n",
       "      <th>Mid-Career 25th Percentile Salary</th>\n",
       "      <th>Mid-Career 75th Percentile Salary</th>\n",
       "      <th>Mid-Career 90th Percentile Salary</th>\n",
       "    </tr>\n",
       "  </thead>\n",
       "  <tbody>\n",
       "    <tr>\n",
       "      <th>0</th>\n",
       "      <td>Accounting</td>\n",
       "      <td>$46,000.00</td>\n",
       "      <td>$77,100.00</td>\n",
       "      <td>67.6</td>\n",
       "      <td>$42,200.00</td>\n",
       "      <td>$56,100.00</td>\n",
       "      <td>$108,000.00</td>\n",
       "      <td>$152,000.00</td>\n",
       "    </tr>\n",
       "    <tr>\n",
       "      <th>1</th>\n",
       "      <td>Aerospace Engineering</td>\n",
       "      <td>$57,700.00</td>\n",
       "      <td>$101,000.00</td>\n",
       "      <td>75.0</td>\n",
       "      <td>$64,300.00</td>\n",
       "      <td>$82,100.00</td>\n",
       "      <td>$127,000.00</td>\n",
       "      <td>$161,000.00</td>\n",
       "    </tr>\n",
       "    <tr>\n",
       "      <th>2</th>\n",
       "      <td>Agriculture</td>\n",
       "      <td>$42,600.00</td>\n",
       "      <td>$71,900.00</td>\n",
       "      <td>68.8</td>\n",
       "      <td>$36,300.00</td>\n",
       "      <td>$52,100.00</td>\n",
       "      <td>$96,300.00</td>\n",
       "      <td>$150,000.00</td>\n",
       "    </tr>\n",
       "    <tr>\n",
       "      <th>3</th>\n",
       "      <td>Anthropology</td>\n",
       "      <td>$36,800.00</td>\n",
       "      <td>$61,500.00</td>\n",
       "      <td>67.1</td>\n",
       "      <td>$33,800.00</td>\n",
       "      <td>$45,500.00</td>\n",
       "      <td>$89,300.00</td>\n",
       "      <td>$138,000.00</td>\n",
       "    </tr>\n",
       "    <tr>\n",
       "      <th>4</th>\n",
       "      <td>Architecture</td>\n",
       "      <td>$41,600.00</td>\n",
       "      <td>$76,800.00</td>\n",
       "      <td>84.6</td>\n",
       "      <td>$50,600.00</td>\n",
       "      <td>$62,200.00</td>\n",
       "      <td>$97,000.00</td>\n",
       "      <td>$136,000.00</td>\n",
       "    </tr>\n",
       "  </tbody>\n",
       "</table>\n",
       "</div>"
      ],
      "text/plain": [
       "     Undergraduate Major Starting Median Salary Mid-Career Median Salary  \\\n",
       "0             Accounting             $46,000.00               $77,100.00   \n",
       "1  Aerospace Engineering             $57,700.00              $101,000.00   \n",
       "2            Agriculture             $42,600.00               $71,900.00   \n",
       "3           Anthropology             $36,800.00               $61,500.00   \n",
       "4           Architecture             $41,600.00               $76,800.00   \n",
       "\n",
       "   Percent change from Starting to Mid-Career Salary  \\\n",
       "0                                               67.6   \n",
       "1                                               75.0   \n",
       "2                                               68.8   \n",
       "3                                               67.1   \n",
       "4                                               84.6   \n",
       "\n",
       "  Mid-Career 10th Percentile Salary Mid-Career 25th Percentile Salary  \\\n",
       "0                        $42,200.00                        $56,100.00   \n",
       "1                        $64,300.00                        $82,100.00   \n",
       "2                        $36,300.00                        $52,100.00   \n",
       "3                        $33,800.00                        $45,500.00   \n",
       "4                        $50,600.00                        $62,200.00   \n",
       "\n",
       "  Mid-Career 75th Percentile Salary Mid-Career 90th Percentile Salary  \n",
       "0                       $108,000.00                       $152,000.00  \n",
       "1                       $127,000.00                       $161,000.00  \n",
       "2                        $96,300.00                       $150,000.00  \n",
       "3                        $89,300.00                       $138,000.00  \n",
       "4                        $97,000.00                       $136,000.00  "
      ]
     },
     "execution_count": 3,
     "metadata": {},
     "output_type": "execute_result"
    }
   ],
   "source": [
    "degrees_that_pay.head()"
   ]
  },
  {
   "cell_type": "code",
   "execution_count": 4,
   "metadata": {},
   "outputs": [],
   "source": [
    "degrees_that_pay['Starting Median Salary'] = degrees_that_pay['Starting Median Salary'].str.replace(',', '')\n",
    "degrees_that_pay['Starting Median Salary'] = degrees_that_pay['Starting Median Salary'].str.replace('.', '')\n",
    "degrees_that_pay['Starting Median Salary'] = degrees_that_pay['Starting Median Salary'].str.replace('$', '')\n",
    "degrees_that_pay['Starting Median Salary'] = degrees_that_pay['Starting Median Salary'].astype(float)\n",
    "\n",
    "degrees_that_pay['Mid-Career Median Salary'] = degrees_that_pay['Mid-Career Median Salary'].str.replace(',', '')\n",
    "degrees_that_pay['Mid-Career Median Salary'] = degrees_that_pay['Mid-Career Median Salary'].str.replace('.', '')\n",
    "degrees_that_pay['Mid-Career Median Salary'] = degrees_that_pay['Mid-Career Median Salary'].str.replace('$', '')\n",
    "degrees_that_pay['Mid-Career Median Salary'] = degrees_that_pay['Mid-Career Median Salary'].astype(float)\n",
    "\n",
    "degrees_that_pay['Mid-Career 10th Percentile Salary'] = degrees_that_pay['Mid-Career 10th Percentile Salary'].str.replace(',', '')\n",
    "degrees_that_pay['Mid-Career 10th Percentile Salary'] = degrees_that_pay['Mid-Career 10th Percentile Salary'].str.replace('.', '')\n",
    "degrees_that_pay['Mid-Career 10th Percentile Salary'] = degrees_that_pay['Mid-Career 10th Percentile Salary'].str.replace('$', '')\n",
    "degrees_that_pay['Mid-Career 10th Percentile Salary'] = degrees_that_pay['Mid-Career 10th Percentile Salary'].astype(float)\n",
    "\n",
    "degrees_that_pay['Mid-Career 25th Percentile Salary'] = degrees_that_pay['Mid-Career 25th Percentile Salary'].str.replace(',', '')\n",
    "degrees_that_pay['Mid-Career 25th Percentile Salary'] = degrees_that_pay['Mid-Career 25th Percentile Salary'].str.replace('.', '')\n",
    "degrees_that_pay['Mid-Career 25th Percentile Salary'] = degrees_that_pay['Mid-Career 25th Percentile Salary'].str.replace('$', '')\n",
    "degrees_that_pay['Mid-Career 25th Percentile Salary'] = degrees_that_pay['Mid-Career 25th Percentile Salary'].astype(float)\n",
    "\n",
    "degrees_that_pay['Mid-Career 75th Percentile Salary'] = degrees_that_pay['Mid-Career 75th Percentile Salary'].str.replace(',', '')\n",
    "degrees_that_pay['Mid-Career 75th Percentile Salary'] = degrees_that_pay['Mid-Career 75th Percentile Salary'].str.replace('.', '')\n",
    "degrees_that_pay['Mid-Career 75th Percentile Salary'] = degrees_that_pay['Mid-Career 75th Percentile Salary'].str.replace('$', '')\n",
    "degrees_that_pay['Mid-Career 75th Percentile Salary'] = degrees_that_pay['Mid-Career 75th Percentile Salary'].astype(float)\n",
    "\n",
    "degrees_that_pay['Mid-Career 90th Percentile Salary'] = degrees_that_pay['Mid-Career 90th Percentile Salary'].str.replace(',', '')\n",
    "degrees_that_pay['Mid-Career 90th Percentile Salary'] = degrees_that_pay['Mid-Career 90th Percentile Salary'].str.replace('.', '')\n",
    "degrees_that_pay['Mid-Career 90th Percentile Salary'] = degrees_that_pay['Mid-Career 90th Percentile Salary'].str.replace('$', '')\n",
    "degrees_that_pay['Mid-Career 90th Percentile Salary'] = degrees_that_pay['Mid-Career 90th Percentile Salary'].astype(float)"
   ]
  },
  {
   "cell_type": "code",
   "execution_count": 5,
   "metadata": {},
   "outputs": [],
   "source": [
    "degrees_that_pay['90th_Rank'] = degrees_that_pay['Mid-Career 90th Percentile Salary'].rank(method='dense', ascending=True)\n",
    "degrees_that_pay['75th_Rank'] = degrees_that_pay['Mid-Career 75th Percentile Salary'].rank(method='dense', ascending=True)\n",
    "degrees_that_pay['25th_Rank'] = degrees_that_pay['Mid-Career 25th Percentile Salary'].rank(method='dense', ascending=True)\n",
    "degrees_that_pay['10th_Rank'] = degrees_that_pay['Mid-Career 10th Percentile Salary'].rank(method='dense', ascending=True)\n",
    "degrees_that_pay['Mid_Career_Rank'] = degrees_that_pay['Mid-Career Median Salary'].rank(method='dense', ascending=True)\n",
    "degrees_that_pay['Rank_Sum'] = degrees_that_pay['90th_Rank'] + degrees_that_pay['75th_Rank'] + degrees_that_pay['25th_Rank'] + degrees_that_pay['10th_Rank'] + degrees_that_pay['Mid_Career_Rank']\n",
    "degrees_that_pay['Greatest_Range'] = degrees_that_pay['Mid-Career 90th Percentile Salary'] - degrees_that_pay['Mid-Career 10th Percentile Salary']"
   ]
  },
  {
   "cell_type": "code",
   "execution_count": 6,
   "metadata": {},
   "outputs": [
    {
     "data": {
      "text/html": [
       "<div>\n",
       "<style scoped>\n",
       "    .dataframe tbody tr th:only-of-type {\n",
       "        vertical-align: middle;\n",
       "    }\n",
       "\n",
       "    .dataframe tbody tr th {\n",
       "        vertical-align: top;\n",
       "    }\n",
       "\n",
       "    .dataframe thead th {\n",
       "        text-align: right;\n",
       "    }\n",
       "</style>\n",
       "<table border=\"1\" class=\"dataframe\">\n",
       "  <thead>\n",
       "    <tr style=\"text-align: right;\">\n",
       "      <th></th>\n",
       "      <th>Undergraduate Major</th>\n",
       "      <th>Starting Median Salary</th>\n",
       "      <th>Mid-Career Median Salary</th>\n",
       "      <th>Percent change from Starting to Mid-Career Salary</th>\n",
       "      <th>Mid-Career 10th Percentile Salary</th>\n",
       "      <th>Mid-Career 25th Percentile Salary</th>\n",
       "      <th>Mid-Career 75th Percentile Salary</th>\n",
       "      <th>Mid-Career 90th Percentile Salary</th>\n",
       "      <th>90th_Rank</th>\n",
       "      <th>75th_Rank</th>\n",
       "      <th>25th_Rank</th>\n",
       "      <th>10th_Rank</th>\n",
       "      <th>Mid_Career_Rank</th>\n",
       "      <th>Rank_Sum</th>\n",
       "      <th>Greatest_Range</th>\n",
       "    </tr>\n",
       "  </thead>\n",
       "  <tbody>\n",
       "    <tr>\n",
       "      <th>0</th>\n",
       "      <td>Accounting</td>\n",
       "      <td>4600000.0</td>\n",
       "      <td>7710000.0</td>\n",
       "      <td>67.6</td>\n",
       "      <td>4220000.0</td>\n",
       "      <td>5610000.0</td>\n",
       "      <td>10800000.0</td>\n",
       "      <td>15200000.0</td>\n",
       "      <td>27.0</td>\n",
       "      <td>30.0</td>\n",
       "      <td>28.0</td>\n",
       "      <td>28.0</td>\n",
       "      <td>28.0</td>\n",
       "      <td>141.0</td>\n",
       "      <td>10980000.0</td>\n",
       "    </tr>\n",
       "    <tr>\n",
       "      <th>1</th>\n",
       "      <td>Aerospace Engineering</td>\n",
       "      <td>5770000.0</td>\n",
       "      <td>10100000.0</td>\n",
       "      <td>75.0</td>\n",
       "      <td>6430000.0</td>\n",
       "      <td>8210000.0</td>\n",
       "      <td>12700000.0</td>\n",
       "      <td>16100000.0</td>\n",
       "      <td>32.0</td>\n",
       "      <td>38.0</td>\n",
       "      <td>45.0</td>\n",
       "      <td>41.0</td>\n",
       "      <td>46.0</td>\n",
       "      <td>202.0</td>\n",
       "      <td>9670000.0</td>\n",
       "    </tr>\n",
       "    <tr>\n",
       "      <th>2</th>\n",
       "      <td>Agriculture</td>\n",
       "      <td>4260000.0</td>\n",
       "      <td>7190000.0</td>\n",
       "      <td>68.8</td>\n",
       "      <td>3630000.0</td>\n",
       "      <td>5210000.0</td>\n",
       "      <td>9630000.0</td>\n",
       "      <td>15000000.0</td>\n",
       "      <td>26.0</td>\n",
       "      <td>21.0</td>\n",
       "      <td>23.0</td>\n",
       "      <td>16.0</td>\n",
       "      <td>24.0</td>\n",
       "      <td>110.0</td>\n",
       "      <td>11370000.0</td>\n",
       "    </tr>\n",
       "    <tr>\n",
       "      <th>3</th>\n",
       "      <td>Anthropology</td>\n",
       "      <td>3680000.0</td>\n",
       "      <td>6150000.0</td>\n",
       "      <td>67.1</td>\n",
       "      <td>3380000.0</td>\n",
       "      <td>4550000.0</td>\n",
       "      <td>8930000.0</td>\n",
       "      <td>13800000.0</td>\n",
       "      <td>19.0</td>\n",
       "      <td>17.0</td>\n",
       "      <td>14.0</td>\n",
       "      <td>10.0</td>\n",
       "      <td>13.0</td>\n",
       "      <td>73.0</td>\n",
       "      <td>10420000.0</td>\n",
       "    </tr>\n",
       "    <tr>\n",
       "      <th>4</th>\n",
       "      <td>Architecture</td>\n",
       "      <td>4160000.0</td>\n",
       "      <td>7680000.0</td>\n",
       "      <td>84.6</td>\n",
       "      <td>5060000.0</td>\n",
       "      <td>6220000.0</td>\n",
       "      <td>9700000.0</td>\n",
       "      <td>13600000.0</td>\n",
       "      <td>18.0</td>\n",
       "      <td>23.0</td>\n",
       "      <td>35.0</td>\n",
       "      <td>35.0</td>\n",
       "      <td>27.0</td>\n",
       "      <td>138.0</td>\n",
       "      <td>8540000.0</td>\n",
       "    </tr>\n",
       "  </tbody>\n",
       "</table>\n",
       "</div>"
      ],
      "text/plain": [
       "     Undergraduate Major  Starting Median Salary  Mid-Career Median Salary  \\\n",
       "0             Accounting               4600000.0                 7710000.0   \n",
       "1  Aerospace Engineering               5770000.0                10100000.0   \n",
       "2            Agriculture               4260000.0                 7190000.0   \n",
       "3           Anthropology               3680000.0                 6150000.0   \n",
       "4           Architecture               4160000.0                 7680000.0   \n",
       "\n",
       "   Percent change from Starting to Mid-Career Salary  \\\n",
       "0                                               67.6   \n",
       "1                                               75.0   \n",
       "2                                               68.8   \n",
       "3                                               67.1   \n",
       "4                                               84.6   \n",
       "\n",
       "   Mid-Career 10th Percentile Salary  Mid-Career 25th Percentile Salary  \\\n",
       "0                          4220000.0                          5610000.0   \n",
       "1                          6430000.0                          8210000.0   \n",
       "2                          3630000.0                          5210000.0   \n",
       "3                          3380000.0                          4550000.0   \n",
       "4                          5060000.0                          6220000.0   \n",
       "\n",
       "   Mid-Career 75th Percentile Salary  Mid-Career 90th Percentile Salary  \\\n",
       "0                         10800000.0                         15200000.0   \n",
       "1                         12700000.0                         16100000.0   \n",
       "2                          9630000.0                         15000000.0   \n",
       "3                          8930000.0                         13800000.0   \n",
       "4                          9700000.0                         13600000.0   \n",
       "\n",
       "   90th_Rank  75th_Rank  25th_Rank  10th_Rank  Mid_Career_Rank  Rank_Sum  \\\n",
       "0       27.0       30.0       28.0       28.0             28.0     141.0   \n",
       "1       32.0       38.0       45.0       41.0             46.0     202.0   \n",
       "2       26.0       21.0       23.0       16.0             24.0     110.0   \n",
       "3       19.0       17.0       14.0       10.0             13.0      73.0   \n",
       "4       18.0       23.0       35.0       35.0             27.0     138.0   \n",
       "\n",
       "   Greatest_Range  \n",
       "0      10980000.0  \n",
       "1       9670000.0  \n",
       "2      11370000.0  \n",
       "3      10420000.0  \n",
       "4       8540000.0  "
      ]
     },
     "execution_count": 6,
     "metadata": {},
     "output_type": "execute_result"
    }
   ],
   "source": [
    "degrees_that_pay.head()"
   ]
  },
  {
   "cell_type": "code",
   "execution_count": 7,
   "metadata": {},
   "outputs": [],
   "source": [
    "temp = degrees_that_pay\n",
    "degrees_that_pay = degrees_that_pay[[\"Greatest_Range\", \"Mid-Career Median Salary\", \"Starting Median Salary\", \"Rank_Sum\"]]"
   ]
  },
  {
   "cell_type": "code",
   "execution_count": 8,
   "metadata": {},
   "outputs": [
    {
     "data": {
      "application/vnd.plotly.v1+json": {
       "config": {
        "linkText": "Export to plot.ly",
        "plotlyServerURL": "https://plot.ly",
        "showLink": true
       },
       "data": [
        {
         "type": "scatter",
         "uid": "80581288-ea6b-441a-90a7-c7f171980a3a",
         "x": [
          1,
          2,
          3,
          4,
          5,
          6,
          7,
          8,
          9,
          10,
          11,
          12,
          13,
          14,
          15,
          16,
          17,
          18,
          19
         ],
         "y": [
          200,
          87.89359860042194,
          58.72562813724354,
          43.27143967300971,
          33.72080173160265,
          27.08612429155474,
          21.429137290534882,
          17.969477874319598,
          16.22514536128501,
          13.527967949869378,
          12.27887724129118,
          10.233991052511179,
          9.009438787798684,
          7.9546107632251,
          7.298779582841097,
          6.2116064048593245,
          5.08634873385222,
          4.708818178803101,
          4.439005249385282
         ]
        }
       ],
       "layout": {
        "showlegend": false,
        "title": "Number of Cluster v.s. Cluster Errors",
        "xaxis": {
         "title": "Number of Cluster"
        },
        "yaxis": {
         "title": "Cluster Errors"
        }
       }
      },
      "text/html": [
       "<div id=\"2c22ff15-a67a-4845-941f-55cb56435e52\" style=\"height: 525px; width: 100%;\" class=\"plotly-graph-div\"></div><script type=\"text/javascript\">require([\"plotly\"], function(Plotly) { window.PLOTLYENV=window.PLOTLYENV || {};window.PLOTLYENV.BASE_URL=\"https://plot.ly\";Plotly.newPlot(\"2c22ff15-a67a-4845-941f-55cb56435e52\", [{\"x\": [1, 2, 3, 4, 5, 6, 7, 8, 9, 10, 11, 12, 13, 14, 15, 16, 17, 18, 19], \"y\": [200.0, 87.89359860042194, 58.72562813724354, 43.27143967300971, 33.72080173160265, 27.08612429155474, 21.429137290534882, 17.969477874319598, 16.22514536128501, 13.527967949869378, 12.27887724129118, 10.233991052511179, 9.009438787798684, 7.9546107632251, 7.298779582841097, 6.2116064048593245, 5.08634873385222, 4.708818178803101, 4.439005249385282], \"type\": \"scatter\", \"uid\": \"80581288-ea6b-441a-90a7-c7f171980a3a\"}], {\"showlegend\": false, \"title\": \"Number of Cluster v.s. Cluster Errors\", \"xaxis\": {\"title\": \"Number of Cluster\"}, \"yaxis\": {\"title\": \"Cluster Errors\"}}, {\"showLink\": true, \"linkText\": \"Export to plot.ly\", \"plotlyServerURL\": \"https://plot.ly\"})});</script><script type=\"text/javascript\">window.addEventListener(\"resize\", function(){window._Plotly.Plots.resize(document.getElementById(\"2c22ff15-a67a-4845-941f-55cb56435e52\"));});</script>"
      ],
      "text/vnd.plotly.v1+html": [
       "<div id=\"2c22ff15-a67a-4845-941f-55cb56435e52\" style=\"height: 525px; width: 100%;\" class=\"plotly-graph-div\"></div><script type=\"text/javascript\">require([\"plotly\"], function(Plotly) { window.PLOTLYENV=window.PLOTLYENV || {};window.PLOTLYENV.BASE_URL=\"https://plot.ly\";Plotly.newPlot(\"2c22ff15-a67a-4845-941f-55cb56435e52\", [{\"x\": [1, 2, 3, 4, 5, 6, 7, 8, 9, 10, 11, 12, 13, 14, 15, 16, 17, 18, 19], \"y\": [200.0, 87.89359860042194, 58.72562813724354, 43.27143967300971, 33.72080173160265, 27.08612429155474, 21.429137290534882, 17.969477874319598, 16.22514536128501, 13.527967949869378, 12.27887724129118, 10.233991052511179, 9.009438787798684, 7.9546107632251, 7.298779582841097, 6.2116064048593245, 5.08634873385222, 4.708818178803101, 4.439005249385282], \"type\": \"scatter\", \"uid\": \"80581288-ea6b-441a-90a7-c7f171980a3a\"}], {\"showlegend\": false, \"title\": \"Number of Cluster v.s. Cluster Errors\", \"xaxis\": {\"title\": \"Number of Cluster\"}, \"yaxis\": {\"title\": \"Cluster Errors\"}}, {\"showLink\": true, \"linkText\": \"Export to plot.ly\", \"plotlyServerURL\": \"https://plot.ly\"})});</script><script type=\"text/javascript\">window.addEventListener(\"resize\", function(){window._Plotly.Plots.resize(document.getElementById(\"2c22ff15-a67a-4845-941f-55cb56435e52\"));});</script>"
      ]
     },
     "metadata": {},
     "output_type": "display_data"
    }
   ],
   "source": [
    "from sklearn.preprocessing import StandardScaler\n",
    "scaler = StandardScaler()\n",
    "X_scaled = scaler.fit_transform(degrees_that_pay)\n",
    "\n",
    "cluster_range = range( 1, 20 )\n",
    "cluster_errors = []\n",
    "\n",
    "for num_clusters in cluster_range:\n",
    "  clusters = KMeans(num_clusters)\n",
    "  clusters.fit(X_scaled)\n",
    "  cluster_errors.append(clusters.inertia_)\n",
    "\n",
    "clusters_df = pd.DataFrame( { \"num_clusters\":cluster_range, \"cluster_errors\": cluster_errors } )\n",
    "\n",
    "trace_list = []\n",
    "trace_list.append(\n",
    "    go.Scatter(\n",
    "        x=clusters_df.num_clusters, \n",
    "        y=clusters_df.cluster_errors)\n",
    ")\n",
    "\n",
    "layout = go.Layout(\n",
    "    title='Number of Cluster v.s. Cluster Errors',\n",
    "    showlegend= False,\n",
    "    xaxis = dict(title = 'Number of Cluster'),\n",
    "    yaxis = dict(title = 'Cluster Errors'),\n",
    ")\n",
    "fig = go.Figure(data=trace_list, layout=layout)\n",
    "py.offline.iplot(fig)\n",
    "\n"
   ]
  },
  {
   "cell_type": "code",
   "execution_count": 9,
   "metadata": {},
   "outputs": [
    {
     "data": {
      "text/plain": [
       "array([4, 1, 4, 0, 4, 0, 0, 4, 1, 4, 1, 0, 1, 1, 2, 3, 0, 2, 3, 1, 0, 0,\n",
       "       2, 3, 0, 4, 3, 3, 4, 0, 1, 4, 3, 4, 0, 4, 4, 2, 1, 0, 3, 3, 4, 1,\n",
       "       2, 4, 0, 3, 3, 3], dtype=int32)"
      ]
     },
     "execution_count": 9,
     "metadata": {},
     "output_type": "execute_result"
    }
   ],
   "source": [
    "kmeans = KMeans(n_clusters=5)\n",
    "kmeans.fit(X_scaled)\n",
    "y_kmeans = kmeans.predict(X_scaled)\n",
    "\n",
    "temp[\"predicted_means_clusters\"] = y_kmeans\n",
    "degrees_that_pay = temp\n",
    "y_kmeans"
   ]
  },
  {
   "cell_type": "code",
   "execution_count": 10,
   "metadata": {},
   "outputs": [
    {
     "data": {
      "application/vnd.plotly.v1+json": {
       "config": {
        "linkText": "Export to plot.ly",
        "plotlyServerURL": "https://plot.ly",
        "showLink": true
       },
       "data": [
        {
         "marker": {
          "color": [
           4,
           1,
           4,
           0,
           4,
           0,
           0,
           4,
           1,
           4,
           1,
           0,
           1,
           1,
           2,
           3,
           0,
           2,
           3,
           1,
           0,
           0,
           2,
           3,
           0,
           4,
           3,
           3,
           4,
           0,
           1,
           4,
           3,
           4,
           0,
           4,
           4,
           2,
           1,
           0,
           3,
           3,
           4,
           1,
           2,
           4,
           0,
           3,
           3,
           3
          ]
         },
         "mode": "markers",
         "type": "scatter",
         "uid": "931a5411-5343-42e3-8af0-4241de74620b",
         "x": [
          0.4528849828691188,
          -0.1152813909659182,
          0.6220337506520688,
          0.21000470092437018,
          -0.605379102747286,
          -0.13696713042527076,
          -0.054561320479731036,
          0.38349061659919065,
          0.9863541735691918,
          0.1449474825463125,
          -0.6400762858822501,
          0.26638762351868683,
          -0.1499785741008823,
          -0.05889846837160155,
          0.6654052295707739,
          -1.0651167792855603,
          0.7347995958407021,
          2.6041103372368926,
          -1.156196885014841,
          -0.028538433128507967,
          0.010495897898326638,
          0.11892459519508942,
          2.1010011817799135,
          -1.2732998780953448,
          -0.31912734188383224,
          0.5049307575715649,
          -1.0130710045831142,
          -1.4294372022026833,
          0.5483022364902701,
          -0.47092751809930017,
          0.7174510042732201,
          -0.6444134337741206,
          -1.2169169555010282,
          0.8432282931374648,
          0.31409625032926247,
          0.058204524708902264,
          1.4547661458912071,
          1.667286392592862,
          -0.0025155457772848967,
          0.344456285572356,
          -2.1103694212263537,
          -1.4771458290132589,
          1.4374175543237249,
          -1.8111062166872882,
          0.9820170256773213,
          1.1902001244871059,
          -0.17166431356023484,
          -1.4164257585270716,
          -0.5229732928017463,
          -1.4728086811213883
         ],
         "y": [
          0.14529054643180137,
          1.645914599897684,
          -0.1812050635273028,
          -0.8341962834455112,
          0.12645426124185305,
          -0.620718384626097,
          -0.6269971463560797,
          -0.1686475400673373,
          2.0226403036966505,
          0.321095874871319,
          0.9866446182494929,
          -0.3005015363969755,
          1.897065069096995,
          1.3005827047486316,
          0.8861844305697686,
          -1.1606918934046153,
          -1.1230193230247187,
          1.4952243183780975,
          -1.4306786477938747,
          1.7714898344973395,
          -0.6332759080860625,
          -0.3946829623467171,
          0.8485118601898719,
          -0.7651299044157007,
          -0.5830458142462003,
          0.2959808279513879,
          -0.9409352328552183,
          -0.8907051390153562,
          -0.23771391909714779,
          -1.0853467526448222,
          1.2503526109087695,
          0.0008790266421975882,
          -1.3553335070340813,
          0.38388349217114676,
          -0.507700673486407,
          0.47178615639090554,
          0.3022595896813707,
          1.1059410911191656,
          1.181286231878959,
          -1.2423157958943913,
          -0.4888643882964587,
          -1.2234795107044432,
          0.40271977736109504,
          1.0619897590092862,
          1.4136004158883215,
          0.21435692546161186,
          -0.9032626624753217,
          -1.4306786477938747,
          -1.0413954205349427,
          -1.3616122687640642
         ]
        },
        {
         "marker": {
          "color": "rgba(0,102,204, .5)",
          "size": 17
         },
         "mode": "markers",
         "name": "Center",
         "type": "scatter",
         "uid": "d2ca81e2-37d2-45c1-abf8-ad017de1d8ef",
         "x": [
          0.07049311040253538,
          -0.12250997078570239,
          1.6039640333715526,
          -1.2867056079429444,
          0.49158568713504025
         ],
         "y": [
          -0.7379219369191087,
          1.457551747998201,
          1.149892423229045,
          -1.0990458691466027,
          0.15977999657791547
         ]
        }
       ],
       "layout": {
        "showlegend": false,
        "title": "Visualization for Splited Culsters"
       }
      },
      "text/html": [
       "<div id=\"710b3746-2c1b-4502-b37c-208ae218d300\" style=\"height: 525px; width: 100%;\" class=\"plotly-graph-div\"></div><script type=\"text/javascript\">require([\"plotly\"], function(Plotly) { window.PLOTLYENV=window.PLOTLYENV || {};window.PLOTLYENV.BASE_URL=\"https://plot.ly\";Plotly.newPlot(\"710b3746-2c1b-4502-b37c-208ae218d300\", [{\"marker\": {\"color\": [4, 1, 4, 0, 4, 0, 0, 4, 1, 4, 1, 0, 1, 1, 2, 3, 0, 2, 3, 1, 0, 0, 2, 3, 0, 4, 3, 3, 4, 0, 1, 4, 3, 4, 0, 4, 4, 2, 1, 0, 3, 3, 4, 1, 2, 4, 0, 3, 3, 3]}, \"mode\": \"markers\", \"x\": [0.4528849828691188, -0.1152813909659182, 0.6220337506520688, 0.21000470092437018, -0.605379102747286, -0.13696713042527076, -0.054561320479731036, 0.38349061659919065, 0.9863541735691918, 0.1449474825463125, -0.6400762858822501, 0.26638762351868683, -0.1499785741008823, -0.05889846837160155, 0.6654052295707739, -1.0651167792855603, 0.7347995958407021, 2.6041103372368926, -1.156196885014841, -0.028538433128507967, 0.010495897898326638, 0.11892459519508942, 2.1010011817799135, -1.2732998780953448, -0.31912734188383224, 0.5049307575715649, -1.0130710045831142, -1.4294372022026833, 0.5483022364902701, -0.47092751809930017, 0.7174510042732201, -0.6444134337741206, -1.2169169555010282, 0.8432282931374648, 0.31409625032926247, 0.058204524708902264, 1.4547661458912071, 1.667286392592862, -0.0025155457772848967, 0.344456285572356, -2.1103694212263537, -1.4771458290132589, 1.4374175543237249, -1.8111062166872882, 0.9820170256773213, 1.1902001244871059, -0.17166431356023484, -1.4164257585270716, -0.5229732928017463, -1.4728086811213883], \"y\": [0.14529054643180137, 1.645914599897684, -0.1812050635273028, -0.8341962834455112, 0.12645426124185305, -0.620718384626097, -0.6269971463560797, -0.1686475400673373, 2.0226403036966505, 0.321095874871319, 0.9866446182494929, -0.3005015363969755, 1.897065069096995, 1.3005827047486316, 0.8861844305697686, -1.1606918934046153, -1.1230193230247187, 1.4952243183780975, -1.4306786477938747, 1.7714898344973395, -0.6332759080860625, -0.3946829623467171, 0.8485118601898719, -0.7651299044157007, -0.5830458142462003, 0.2959808279513879, -0.9409352328552183, -0.8907051390153562, -0.23771391909714779, -1.0853467526448222, 1.2503526109087695, 0.0008790266421975882, -1.3553335070340813, 0.38388349217114676, -0.507700673486407, 0.47178615639090554, 0.3022595896813707, 1.1059410911191656, 1.181286231878959, -1.2423157958943913, -0.4888643882964587, -1.2234795107044432, 0.40271977736109504, 1.0619897590092862, 1.4136004158883215, 0.21435692546161186, -0.9032626624753217, -1.4306786477938747, -1.0413954205349427, -1.3616122687640642], \"type\": \"scatter\", \"uid\": \"931a5411-5343-42e3-8af0-4241de74620b\"}, {\"marker\": {\"color\": \"rgba(0,102,204, .5)\", \"size\": 17}, \"mode\": \"markers\", \"name\": \"Center\", \"x\": [0.07049311040253538, -0.12250997078570239, 1.6039640333715526, -1.2867056079429444, 0.49158568713504025], \"y\": [-0.7379219369191087, 1.457551747998201, 1.149892423229045, -1.0990458691466027, 0.15977999657791547], \"type\": \"scatter\", \"uid\": \"d2ca81e2-37d2-45c1-abf8-ad017de1d8ef\"}], {\"showlegend\": false, \"title\": \"Visualization for Splited Culsters\"}, {\"showLink\": true, \"linkText\": \"Export to plot.ly\", \"plotlyServerURL\": \"https://plot.ly\"})});</script><script type=\"text/javascript\">window.addEventListener(\"resize\", function(){window._Plotly.Plots.resize(document.getElementById(\"710b3746-2c1b-4502-b37c-208ae218d300\"));});</script>"
      ],
      "text/vnd.plotly.v1+html": [
       "<div id=\"710b3746-2c1b-4502-b37c-208ae218d300\" style=\"height: 525px; width: 100%;\" class=\"plotly-graph-div\"></div><script type=\"text/javascript\">require([\"plotly\"], function(Plotly) { window.PLOTLYENV=window.PLOTLYENV || {};window.PLOTLYENV.BASE_URL=\"https://plot.ly\";Plotly.newPlot(\"710b3746-2c1b-4502-b37c-208ae218d300\", [{\"marker\": {\"color\": [4, 1, 4, 0, 4, 0, 0, 4, 1, 4, 1, 0, 1, 1, 2, 3, 0, 2, 3, 1, 0, 0, 2, 3, 0, 4, 3, 3, 4, 0, 1, 4, 3, 4, 0, 4, 4, 2, 1, 0, 3, 3, 4, 1, 2, 4, 0, 3, 3, 3]}, \"mode\": \"markers\", \"x\": [0.4528849828691188, -0.1152813909659182, 0.6220337506520688, 0.21000470092437018, -0.605379102747286, -0.13696713042527076, -0.054561320479731036, 0.38349061659919065, 0.9863541735691918, 0.1449474825463125, -0.6400762858822501, 0.26638762351868683, -0.1499785741008823, -0.05889846837160155, 0.6654052295707739, -1.0651167792855603, 0.7347995958407021, 2.6041103372368926, -1.156196885014841, -0.028538433128507967, 0.010495897898326638, 0.11892459519508942, 2.1010011817799135, -1.2732998780953448, -0.31912734188383224, 0.5049307575715649, -1.0130710045831142, -1.4294372022026833, 0.5483022364902701, -0.47092751809930017, 0.7174510042732201, -0.6444134337741206, -1.2169169555010282, 0.8432282931374648, 0.31409625032926247, 0.058204524708902264, 1.4547661458912071, 1.667286392592862, -0.0025155457772848967, 0.344456285572356, -2.1103694212263537, -1.4771458290132589, 1.4374175543237249, -1.8111062166872882, 0.9820170256773213, 1.1902001244871059, -0.17166431356023484, -1.4164257585270716, -0.5229732928017463, -1.4728086811213883], \"y\": [0.14529054643180137, 1.645914599897684, -0.1812050635273028, -0.8341962834455112, 0.12645426124185305, -0.620718384626097, -0.6269971463560797, -0.1686475400673373, 2.0226403036966505, 0.321095874871319, 0.9866446182494929, -0.3005015363969755, 1.897065069096995, 1.3005827047486316, 0.8861844305697686, -1.1606918934046153, -1.1230193230247187, 1.4952243183780975, -1.4306786477938747, 1.7714898344973395, -0.6332759080860625, -0.3946829623467171, 0.8485118601898719, -0.7651299044157007, -0.5830458142462003, 0.2959808279513879, -0.9409352328552183, -0.8907051390153562, -0.23771391909714779, -1.0853467526448222, 1.2503526109087695, 0.0008790266421975882, -1.3553335070340813, 0.38388349217114676, -0.507700673486407, 0.47178615639090554, 0.3022595896813707, 1.1059410911191656, 1.181286231878959, -1.2423157958943913, -0.4888643882964587, -1.2234795107044432, 0.40271977736109504, 1.0619897590092862, 1.4136004158883215, 0.21435692546161186, -0.9032626624753217, -1.4306786477938747, -1.0413954205349427, -1.3616122687640642], \"type\": \"scatter\", \"uid\": \"931a5411-5343-42e3-8af0-4241de74620b\"}, {\"marker\": {\"color\": \"rgba(0,102,204, .5)\", \"size\": 17}, \"mode\": \"markers\", \"name\": \"Center\", \"x\": [0.07049311040253538, -0.12250997078570239, 1.6039640333715526, -1.2867056079429444, 0.49158568713504025], \"y\": [-0.7379219369191087, 1.457551747998201, 1.149892423229045, -1.0990458691466027, 0.15977999657791547], \"type\": \"scatter\", \"uid\": \"d2ca81e2-37d2-45c1-abf8-ad017de1d8ef\"}], {\"showlegend\": false, \"title\": \"Visualization for Splited Culsters\"}, {\"showLink\": true, \"linkText\": \"Export to plot.ly\", \"plotlyServerURL\": \"https://plot.ly\"})});</script><script type=\"text/javascript\">window.addEventListener(\"resize\", function(){window._Plotly.Plots.resize(document.getElementById(\"710b3746-2c1b-4502-b37c-208ae218d300\"));});</script>"
      ]
     },
     "metadata": {},
     "output_type": "display_data"
    }
   ],
   "source": [
    "centers = kmeans.cluster_centers_\n",
    "\n",
    "scatter_trace_list = []\n",
    "scatter_trace_list.append(\n",
    "    go.Scatter(\n",
    "        x=X_scaled[:, 0], \n",
    "        y=X_scaled[:, 1], \n",
    "        mode = 'markers', \n",
    "        marker=dict(\n",
    "            color = y_kmeans))\n",
    ")\n",
    "scatter_trace_list.append(\n",
    "    go.Scatter(\n",
    "        x=centers[:, 0], \n",
    "        y=centers[:, 1], \n",
    "        marker=dict(\n",
    "            size = 17,\n",
    "            color = 'rgba(0,102,204, .5)',\n",
    "        ),\n",
    "        mode = 'markers',\n",
    "        name = 'Center'\n",
    "    )\n",
    ")\n",
    "layout = go.Layout(\n",
    "    title='Visualization for Splited Culsters',\n",
    "    showlegend= False\n",
    "#     xaxis = dict(title = 'Degrees that Pay'),\n",
    "#     yaxis = dict(title = 'predicted means clusters'),\n",
    ")\n",
    "fig = go.Figure(data=scatter_trace_list, layout=layout)\n",
    "py.offline.iplot(fig)"
   ]
  },
  {
   "cell_type": "code",
   "execution_count": 11,
   "metadata": {},
   "outputs": [],
   "source": [
    "culster_groups = degrees_that_pay.groupby(\"predicted_means_clusters\")\n",
    "cluster_one = culster_groups.get_group(0)\n",
    "cluster_two = culster_groups.get_group(1)\n",
    "cluster_three = culster_groups.get_group(2)\n",
    "cluster_four = culster_groups.get_group(3)\n",
    "cluster_five = culster_groups.get_group(4)"
   ]
  },
  {
   "cell_type": "code",
   "execution_count": 12,
   "metadata": {},
   "outputs": [
    {
     "data": {
      "application/vnd.plotly.v1+json": {
       "config": {
        "linkText": "Export to plot.ly",
        "plotlyServerURL": "https://plot.ly",
        "showLink": true
       },
       "data": [
        {
         "name": "Anthropology",
         "type": "bar",
         "uid": "cdd2b63d-cd7d-4f0e-a13e-de74aacf2b14",
         "x": [
          "Mid-Career Median Salary",
          "Mid-Career 10th Percentile Salary",
          "Mid-Career 25th Percentile Salary",
          "Mid-Career 75th Percentile Salary",
          "Mid-Career 90th Percentile Salary"
         ],
         "y": [
          6150000,
          3380000,
          4550000,
          8930000,
          13800000
         ]
        },
        {
         "name": "Art History",
         "type": "bar",
         "uid": "8c08039d-5eee-4955-ba8f-3f1a2b661be4",
         "x": [
          "Mid-Career Median Salary",
          "Mid-Career 10th Percentile Salary",
          "Mid-Career 25th Percentile Salary",
          "Mid-Career 75th Percentile Salary",
          "Mid-Career 90th Percentile Salary"
         ],
         "y": [
          6490000,
          2880000,
          4220000,
          8740000,
          12500000
         ]
        },
        {
         "name": "Biology",
         "type": "bar",
         "uid": "e273c723-6753-4b7c-a1fd-48612f9bb72e",
         "x": [
          "Mid-Career Median Salary",
          "Mid-Career 10th Percentile Salary",
          "Mid-Career 25th Percentile Salary",
          "Mid-Career 75th Percentile Salary",
          "Mid-Career 90th Percentile Salary"
         ],
         "y": [
          6480000,
          3690000,
          4740000,
          9450000,
          13500000
         ]
        },
        {
         "name": "Communications",
         "type": "bar",
         "uid": "b7344dad-8689-41cc-82a3-a820c71c2836",
         "x": [
          "Mid-Career Median Salary",
          "Mid-Career 10th Percentile Salary",
          "Mid-Career 25th Percentile Salary",
          "Mid-Career 75th Percentile Salary",
          "Mid-Career 90th Percentile Salary"
         ],
         "y": [
          7000000,
          3750000,
          4970000,
          9880000,
          14300000
         ]
        },
        {
         "name": "Drama",
         "type": "bar",
         "uid": "f5d0b4f0-8966-42bd-b8db-1ea9b88760c1",
         "x": [
          "Mid-Career Median Salary",
          "Mid-Career 10th Percentile Salary",
          "Mid-Career 25th Percentile Salary",
          "Mid-Career 75th Percentile Salary",
          "Mid-Career 90th Percentile Salary"
         ],
         "y": [
          5690000,
          3670000,
          4130000,
          7910000,
          15300000
         ]
        },
        {
         "name": "English",
         "type": "bar",
         "uid": "39c363a9-564a-44b7-a748-8407c6666481",
         "x": [
          "Mid-Career Median Salary",
          "Mid-Career 10th Percentile Salary",
          "Mid-Career 25th Percentile Salary",
          "Mid-Career 75th Percentile Salary",
          "Mid-Career 90th Percentile Salary"
         ],
         "y": [
          6470000,
          3340000,
          4480000,
          9320000,
          13300000
         ]
        },
        {
         "name": "Film",
         "type": "bar",
         "uid": "cba0409b-8fe9-4f42-9d83-9439533b32ac",
         "x": [
          "Mid-Career Median Salary",
          "Mid-Career 10th Percentile Salary",
          "Mid-Career 25th Percentile Salary",
          "Mid-Career 75th Percentile Salary",
          "Mid-Career 90th Percentile Salary"
         ],
         "y": [
          6850000,
          3390000,
          4550000,
          10000000,
          13600000
         ]
        },
        {
         "name": "Geography",
         "type": "bar",
         "uid": "61279858-2aa4-4d5d-afc2-ae6974dd0c93",
         "x": [
          "Mid-Career Median Salary",
          "Mid-Career 10th Percentile Salary",
          "Mid-Career 25th Percentile Salary",
          "Mid-Career 75th Percentile Salary",
          "Mid-Career 90th Percentile Salary"
         ],
         "y": [
          6550000,
          4000000,
          5000000,
          9080000,
          13200000
         ]
        },
        {
         "name": "Hospitality & Tourism",
         "type": "bar",
         "uid": "0c02c9cf-b806-4275-9ed0-3dc551488239",
         "x": [
          "Mid-Career Median Salary",
          "Mid-Career 10th Percentile Salary",
          "Mid-Career 25th Percentile Salary",
          "Mid-Career 75th Percentile Salary",
          "Mid-Career 90th Percentile Salary"
         ],
         "y": [
          5750000,
          3550000,
          4360000,
          8190000,
          12400000
         ]
        },
        {
         "name": "Journalism",
         "type": "bar",
         "uid": "11ac313f-df14-4d4f-9b23-b87c8e877e6b",
         "x": [
          "Mid-Career Median Salary",
          "Mid-Career 10th Percentile Salary",
          "Mid-Career 25th Percentile Salary",
          "Mid-Career 75th Percentile Salary",
          "Mid-Career 90th Percentile Salary"
         ],
         "y": [
          6670000,
          3840000,
          4830000,
          9770000,
          14500000
         ]
        },
        {
         "name": "Music",
         "type": "bar",
         "uid": "8812f61f-0ebb-4f0c-9c64-4e5795beebd5",
         "x": [
          "Mid-Career Median Salary",
          "Mid-Career 10th Percentile Salary",
          "Mid-Career 25th Percentile Salary",
          "Mid-Career 75th Percentile Salary",
          "Mid-Career 90th Percentile Salary"
         ],
         "y": [
          5500000,
          2670000,
          4020000,
          8800000,
          13400000
         ]
        },
        {
         "name": "Psychology",
         "type": "bar",
         "uid": "8e469e40-a02d-4f91-a507-0e9306365997",
         "x": [
          "Mid-Career Median Salary",
          "Mid-Career 10th Percentile Salary",
          "Mid-Career 25th Percentile Salary",
          "Mid-Career 75th Percentile Salary",
          "Mid-Career 90th Percentile Salary"
         ],
         "y": [
          6040000,
          3160000,
          4210000,
          8750000,
          12700000
         ]
        }
       ],
       "layout": {
        "barmode": "group",
        "title": "Major and Salary in Cluster one",
        "xaxis": {
         "tickangle": 50,
         "title": "Career Period"
        },
        "yaxis": {
         "title": "Salary"
        }
       }
      },
      "text/html": [
       "<div id=\"09bc43d3-18fa-45e5-b55a-a68c4c8d2e34\" style=\"height: 525px; width: 100%;\" class=\"plotly-graph-div\"></div><script type=\"text/javascript\">require([\"plotly\"], function(Plotly) { window.PLOTLYENV=window.PLOTLYENV || {};window.PLOTLYENV.BASE_URL=\"https://plot.ly\";Plotly.newPlot(\"09bc43d3-18fa-45e5-b55a-a68c4c8d2e34\", [{\"name\": \"Anthropology\", \"x\": [\"Mid-Career Median Salary\", \"Mid-Career 10th Percentile Salary\", \"Mid-Career 25th Percentile Salary\", \"Mid-Career 75th Percentile Salary\", \"Mid-Career 90th Percentile Salary\"], \"y\": [6150000.0, 3380000.0, 4550000.0, 8930000.0, 13800000.0], \"type\": \"bar\", \"uid\": \"cdd2b63d-cd7d-4f0e-a13e-de74aacf2b14\"}, {\"name\": \"Art History\", \"x\": [\"Mid-Career Median Salary\", \"Mid-Career 10th Percentile Salary\", \"Mid-Career 25th Percentile Salary\", \"Mid-Career 75th Percentile Salary\", \"Mid-Career 90th Percentile Salary\"], \"y\": [6490000.0, 2880000.0, 4220000.0, 8740000.0, 12500000.0], \"type\": \"bar\", \"uid\": \"8c08039d-5eee-4955-ba8f-3f1a2b661be4\"}, {\"name\": \"Biology\", \"x\": [\"Mid-Career Median Salary\", \"Mid-Career 10th Percentile Salary\", \"Mid-Career 25th Percentile Salary\", \"Mid-Career 75th Percentile Salary\", \"Mid-Career 90th Percentile Salary\"], \"y\": [6480000.0, 3690000.0, 4740000.0, 9450000.0, 13500000.0], \"type\": \"bar\", \"uid\": \"e273c723-6753-4b7c-a1fd-48612f9bb72e\"}, {\"name\": \"Communications\", \"x\": [\"Mid-Career Median Salary\", \"Mid-Career 10th Percentile Salary\", \"Mid-Career 25th Percentile Salary\", \"Mid-Career 75th Percentile Salary\", \"Mid-Career 90th Percentile Salary\"], \"y\": [7000000.0, 3750000.0, 4970000.0, 9880000.0, 14300000.0], \"type\": \"bar\", \"uid\": \"b7344dad-8689-41cc-82a3-a820c71c2836\"}, {\"name\": \"Drama\", \"x\": [\"Mid-Career Median Salary\", \"Mid-Career 10th Percentile Salary\", \"Mid-Career 25th Percentile Salary\", \"Mid-Career 75th Percentile Salary\", \"Mid-Career 90th Percentile Salary\"], \"y\": [5690000.0, 3670000.0, 4130000.0, 7910000.0, 15300000.0], \"type\": \"bar\", \"uid\": \"f5d0b4f0-8966-42bd-b8db-1ea9b88760c1\"}, {\"name\": \"English\", \"x\": [\"Mid-Career Median Salary\", \"Mid-Career 10th Percentile Salary\", \"Mid-Career 25th Percentile Salary\", \"Mid-Career 75th Percentile Salary\", \"Mid-Career 90th Percentile Salary\"], \"y\": [6470000.0, 3340000.0, 4480000.0, 9320000.0, 13300000.0], \"type\": \"bar\", \"uid\": \"39c363a9-564a-44b7-a748-8407c6666481\"}, {\"name\": \"Film\", \"x\": [\"Mid-Career Median Salary\", \"Mid-Career 10th Percentile Salary\", \"Mid-Career 25th Percentile Salary\", \"Mid-Career 75th Percentile Salary\", \"Mid-Career 90th Percentile Salary\"], \"y\": [6850000.0, 3390000.0, 4550000.0, 10000000.0, 13600000.0], \"type\": \"bar\", \"uid\": \"cba0409b-8fe9-4f42-9d83-9439533b32ac\"}, {\"name\": \"Geography\", \"x\": [\"Mid-Career Median Salary\", \"Mid-Career 10th Percentile Salary\", \"Mid-Career 25th Percentile Salary\", \"Mid-Career 75th Percentile Salary\", \"Mid-Career 90th Percentile Salary\"], \"y\": [6550000.0, 4000000.0, 5000000.0, 9080000.0, 13200000.0], \"type\": \"bar\", \"uid\": \"61279858-2aa4-4d5d-afc2-ae6974dd0c93\"}, {\"name\": \"Hospitality & Tourism\", \"x\": [\"Mid-Career Median Salary\", \"Mid-Career 10th Percentile Salary\", \"Mid-Career 25th Percentile Salary\", \"Mid-Career 75th Percentile Salary\", \"Mid-Career 90th Percentile Salary\"], \"y\": [5750000.0, 3550000.0, 4360000.0, 8190000.0, 12400000.0], \"type\": \"bar\", \"uid\": \"0c02c9cf-b806-4275-9ed0-3dc551488239\"}, {\"name\": \"Journalism\", \"x\": [\"Mid-Career Median Salary\", \"Mid-Career 10th Percentile Salary\", \"Mid-Career 25th Percentile Salary\", \"Mid-Career 75th Percentile Salary\", \"Mid-Career 90th Percentile Salary\"], \"y\": [6670000.0, 3840000.0, 4830000.0, 9770000.0, 14500000.0], \"type\": \"bar\", \"uid\": \"11ac313f-df14-4d4f-9b23-b87c8e877e6b\"}, {\"name\": \"Music\", \"x\": [\"Mid-Career Median Salary\", \"Mid-Career 10th Percentile Salary\", \"Mid-Career 25th Percentile Salary\", \"Mid-Career 75th Percentile Salary\", \"Mid-Career 90th Percentile Salary\"], \"y\": [5500000.0, 2670000.0, 4020000.0, 8800000.0, 13400000.0], \"type\": \"bar\", \"uid\": \"8812f61f-0ebb-4f0c-9c64-4e5795beebd5\"}, {\"name\": \"Psychology\", \"x\": [\"Mid-Career Median Salary\", \"Mid-Career 10th Percentile Salary\", \"Mid-Career 25th Percentile Salary\", \"Mid-Career 75th Percentile Salary\", \"Mid-Career 90th Percentile Salary\"], \"y\": [6040000.0, 3160000.0, 4210000.0, 8750000.0, 12700000.0], \"type\": \"bar\", \"uid\": \"8e469e40-a02d-4f91-a507-0e9306365997\"}], {\"barmode\": \"group\", \"title\": \"Major and Salary in Cluster one\", \"xaxis\": {\"tickangle\": 50, \"title\": \"Career Period\"}, \"yaxis\": {\"title\": \"Salary\"}}, {\"showLink\": true, \"linkText\": \"Export to plot.ly\", \"plotlyServerURL\": \"https://plot.ly\"})});</script><script type=\"text/javascript\">window.addEventListener(\"resize\", function(){window._Plotly.Plots.resize(document.getElementById(\"09bc43d3-18fa-45e5-b55a-a68c4c8d2e34\"));});</script>"
      ],
      "text/vnd.plotly.v1+html": [
       "<div id=\"09bc43d3-18fa-45e5-b55a-a68c4c8d2e34\" style=\"height: 525px; width: 100%;\" class=\"plotly-graph-div\"></div><script type=\"text/javascript\">require([\"plotly\"], function(Plotly) { window.PLOTLYENV=window.PLOTLYENV || {};window.PLOTLYENV.BASE_URL=\"https://plot.ly\";Plotly.newPlot(\"09bc43d3-18fa-45e5-b55a-a68c4c8d2e34\", [{\"name\": \"Anthropology\", \"x\": [\"Mid-Career Median Salary\", \"Mid-Career 10th Percentile Salary\", \"Mid-Career 25th Percentile Salary\", \"Mid-Career 75th Percentile Salary\", \"Mid-Career 90th Percentile Salary\"], \"y\": [6150000.0, 3380000.0, 4550000.0, 8930000.0, 13800000.0], \"type\": \"bar\", \"uid\": \"cdd2b63d-cd7d-4f0e-a13e-de74aacf2b14\"}, {\"name\": \"Art History\", \"x\": [\"Mid-Career Median Salary\", \"Mid-Career 10th Percentile Salary\", \"Mid-Career 25th Percentile Salary\", \"Mid-Career 75th Percentile Salary\", \"Mid-Career 90th Percentile Salary\"], \"y\": [6490000.0, 2880000.0, 4220000.0, 8740000.0, 12500000.0], \"type\": \"bar\", \"uid\": \"8c08039d-5eee-4955-ba8f-3f1a2b661be4\"}, {\"name\": \"Biology\", \"x\": [\"Mid-Career Median Salary\", \"Mid-Career 10th Percentile Salary\", \"Mid-Career 25th Percentile Salary\", \"Mid-Career 75th Percentile Salary\", \"Mid-Career 90th Percentile Salary\"], \"y\": [6480000.0, 3690000.0, 4740000.0, 9450000.0, 13500000.0], \"type\": \"bar\", \"uid\": \"e273c723-6753-4b7c-a1fd-48612f9bb72e\"}, {\"name\": \"Communications\", \"x\": [\"Mid-Career Median Salary\", \"Mid-Career 10th Percentile Salary\", \"Mid-Career 25th Percentile Salary\", \"Mid-Career 75th Percentile Salary\", \"Mid-Career 90th Percentile Salary\"], \"y\": [7000000.0, 3750000.0, 4970000.0, 9880000.0, 14300000.0], \"type\": \"bar\", \"uid\": \"b7344dad-8689-41cc-82a3-a820c71c2836\"}, {\"name\": \"Drama\", \"x\": [\"Mid-Career Median Salary\", \"Mid-Career 10th Percentile Salary\", \"Mid-Career 25th Percentile Salary\", \"Mid-Career 75th Percentile Salary\", \"Mid-Career 90th Percentile Salary\"], \"y\": [5690000.0, 3670000.0, 4130000.0, 7910000.0, 15300000.0], \"type\": \"bar\", \"uid\": \"f5d0b4f0-8966-42bd-b8db-1ea9b88760c1\"}, {\"name\": \"English\", \"x\": [\"Mid-Career Median Salary\", \"Mid-Career 10th Percentile Salary\", \"Mid-Career 25th Percentile Salary\", \"Mid-Career 75th Percentile Salary\", \"Mid-Career 90th Percentile Salary\"], \"y\": [6470000.0, 3340000.0, 4480000.0, 9320000.0, 13300000.0], \"type\": \"bar\", \"uid\": \"39c363a9-564a-44b7-a748-8407c6666481\"}, {\"name\": \"Film\", \"x\": [\"Mid-Career Median Salary\", \"Mid-Career 10th Percentile Salary\", \"Mid-Career 25th Percentile Salary\", \"Mid-Career 75th Percentile Salary\", \"Mid-Career 90th Percentile Salary\"], \"y\": [6850000.0, 3390000.0, 4550000.0, 10000000.0, 13600000.0], \"type\": \"bar\", \"uid\": \"cba0409b-8fe9-4f42-9d83-9439533b32ac\"}, {\"name\": \"Geography\", \"x\": [\"Mid-Career Median Salary\", \"Mid-Career 10th Percentile Salary\", \"Mid-Career 25th Percentile Salary\", \"Mid-Career 75th Percentile Salary\", \"Mid-Career 90th Percentile Salary\"], \"y\": [6550000.0, 4000000.0, 5000000.0, 9080000.0, 13200000.0], \"type\": \"bar\", \"uid\": \"61279858-2aa4-4d5d-afc2-ae6974dd0c93\"}, {\"name\": \"Hospitality & Tourism\", \"x\": [\"Mid-Career Median Salary\", \"Mid-Career 10th Percentile Salary\", \"Mid-Career 25th Percentile Salary\", \"Mid-Career 75th Percentile Salary\", \"Mid-Career 90th Percentile Salary\"], \"y\": [5750000.0, 3550000.0, 4360000.0, 8190000.0, 12400000.0], \"type\": \"bar\", \"uid\": \"0c02c9cf-b806-4275-9ed0-3dc551488239\"}, {\"name\": \"Journalism\", \"x\": [\"Mid-Career Median Salary\", \"Mid-Career 10th Percentile Salary\", \"Mid-Career 25th Percentile Salary\", \"Mid-Career 75th Percentile Salary\", \"Mid-Career 90th Percentile Salary\"], \"y\": [6670000.0, 3840000.0, 4830000.0, 9770000.0, 14500000.0], \"type\": \"bar\", \"uid\": \"11ac313f-df14-4d4f-9b23-b87c8e877e6b\"}, {\"name\": \"Music\", \"x\": [\"Mid-Career Median Salary\", \"Mid-Career 10th Percentile Salary\", \"Mid-Career 25th Percentile Salary\", \"Mid-Career 75th Percentile Salary\", \"Mid-Career 90th Percentile Salary\"], \"y\": [5500000.0, 2670000.0, 4020000.0, 8800000.0, 13400000.0], \"type\": \"bar\", \"uid\": \"8812f61f-0ebb-4f0c-9c64-4e5795beebd5\"}, {\"name\": \"Psychology\", \"x\": [\"Mid-Career Median Salary\", \"Mid-Career 10th Percentile Salary\", \"Mid-Career 25th Percentile Salary\", \"Mid-Career 75th Percentile Salary\", \"Mid-Career 90th Percentile Salary\"], \"y\": [6040000.0, 3160000.0, 4210000.0, 8750000.0, 12700000.0], \"type\": \"bar\", \"uid\": \"8e469e40-a02d-4f91-a507-0e9306365997\"}], {\"barmode\": \"group\", \"title\": \"Major and Salary in Cluster one\", \"xaxis\": {\"tickangle\": 50, \"title\": \"Career Period\"}, \"yaxis\": {\"title\": \"Salary\"}}, {\"showLink\": true, \"linkText\": \"Export to plot.ly\", \"plotlyServerURL\": \"https://plot.ly\"})});</script><script type=\"text/javascript\">window.addEventListener(\"resize\", function(){window._Plotly.Plots.resize(document.getElementById(\"09bc43d3-18fa-45e5-b55a-a68c4c8d2e34\"));});</script>"
      ]
     },
     "metadata": {},
     "output_type": "display_data"
    }
   ],
   "source": [
    "cluster_one = cluster_one[['Undergraduate Major', 'Mid-Career Median Salary', 'Mid-Career 10th Percentile Salary', 'Mid-Career 25th Percentile Salary', 'Mid-Career 75th Percentile Salary', 'Mid-Career 90th Percentile Salary']]\n",
    "tidy = (\n",
    "    cluster_one.set_index('Undergraduate Major')\n",
    "      .stack()\n",
    "      .reset_index()\n",
    "      .rename(columns={'level_1': 'Variable', 0: 'Value'})\n",
    ")\n",
    "\n",
    "\n",
    "cluster_one_trace_list = []\n",
    "\n",
    "for label, label_df in tidy.groupby('Undergraduate Major'):\n",
    "    cluster_one_trace_list.append(\n",
    "        go.Bar(\n",
    "            x=label_df.Variable,\n",
    "            y=label_df.Value,\n",
    "            name=label\n",
    "        )\n",
    "    )\n",
    "\n",
    "layout = go.Layout(\n",
    "    barmode='group',\n",
    "    title='Major and Salary in Cluster one',\n",
    "    xaxis = dict(title = 'Career Period', tickangle = 50),\n",
    "    yaxis = dict(title = 'Salary'),\n",
    "    width=800,\n",
    "    margin=go.layout.Margin(\n",
    "            b=200,\n",
    "            t=100,\n",
    "            pad=10\n",
    "        ),\n",
    ")\n",
    "fig = go.Figure(data=cluster_one_trace_list, layout=layout)\n",
    "py.offline.iplot(fig)"
   ]
  },
  {
   "cell_type": "code",
   "execution_count": 13,
   "metadata": {},
   "outputs": [
    {
     "data": {
      "application/vnd.plotly.v1+json": {
       "config": {
        "linkText": "Export to plot.ly",
        "plotlyServerURL": "https://plot.ly",
        "showLink": true
       },
       "data": [
        {
         "name": "Aerospace Engineering",
         "type": "bar",
         "uid": "9a0a8718-c5ee-4d36-a824-441f6567e0c5",
         "x": [
          "Mid-Career Median Salary",
          "Mid-Career 10th Percentile Salary",
          "Mid-Career 25th Percentile Salary",
          "Mid-Career 75th Percentile Salary",
          "Mid-Career 90th Percentile Salary"
         ],
         "y": [
          10100000,
          6430000,
          8210000,
          12700000,
          16100000
         ]
        },
        {
         "name": "Chemical Engineering",
         "type": "bar",
         "uid": "b6d1aafc-3cc4-41c9-9978-f2c8102cedfc",
         "x": [
          "Mid-Career Median Salary",
          "Mid-Career 10th Percentile Salary",
          "Mid-Career 25th Percentile Salary",
          "Mid-Career 75th Percentile Salary",
          "Mid-Career 90th Percentile Salary"
         ],
         "y": [
          10700000,
          7190000,
          8730000,
          14300000,
          19400000
         ]
        },
        {
         "name": "Civil Engineering",
         "type": "bar",
         "uid": "7b419a69-247c-44c4-83df-4abb03fbacc1",
         "x": [
          "Mid-Career Median Salary",
          "Mid-Career 10th Percentile Salary",
          "Mid-Career 25th Percentile Salary",
          "Mid-Career 75th Percentile Salary",
          "Mid-Career 90th Percentile Salary"
         ],
         "y": [
          9050000,
          6340000,
          7510000,
          11500000,
          14800000
         ]
        },
        {
         "name": "Computer Engineering",
         "type": "bar",
         "uid": "b3c47ee2-f697-4b0c-934a-19d02a0eca51",
         "x": [
          "Mid-Career Median Salary",
          "Mid-Career 10th Percentile Salary",
          "Mid-Career 25th Percentile Salary",
          "Mid-Career 75th Percentile Salary",
          "Mid-Career 90th Percentile Salary"
         ],
         "y": [
          10500000,
          6610000,
          8410000,
          13500000,
          16200000
         ]
        },
        {
         "name": "Computer Science",
         "type": "bar",
         "uid": "75a8f3a2-e554-4080-b324-d376ae54ee42",
         "x": [
          "Mid-Career Median Salary",
          "Mid-Career 10th Percentile Salary",
          "Mid-Career 25th Percentile Salary",
          "Mid-Career 75th Percentile Salary",
          "Mid-Career 90th Percentile Salary"
         ],
         "y": [
          9550000,
          5600000,
          7490000,
          12200000,
          15400000
         ]
        },
        {
         "name": "Electrical Engineering",
         "type": "bar",
         "uid": "9f94f7a6-feec-454a-9ab8-4ccb661c7c5b",
         "x": [
          "Mid-Career Median Salary",
          "Mid-Career 10th Percentile Salary",
          "Mid-Career 25th Percentile Salary",
          "Mid-Career 75th Percentile Salary",
          "Mid-Career 90th Percentile Salary"
         ],
         "y": [
          10300000,
          6930000,
          8380000,
          13000000,
          16800000
         ]
        },
        {
         "name": "Industrial Engineering",
         "type": "bar",
         "uid": "3f0c3934-080f-4b92-962e-41a03329246b",
         "x": [
          "Mid-Career Median Salary",
          "Mid-Career 10th Percentile Salary",
          "Mid-Career 25th Percentile Salary",
          "Mid-Career 75th Percentile Salary",
          "Mid-Career 90th Percentile Salary"
         ],
         "y": [
          9470000,
          5710000,
          7230000,
          13200000,
          17300000
         ]
        },
        {
         "name": "Mechanical Engineering",
         "type": "bar",
         "uid": "51f733be-e451-4abd-9d8f-77e4296e5376",
         "x": [
          "Mid-Career Median Salary",
          "Mid-Career 10th Percentile Salary",
          "Mid-Career 25th Percentile Salary",
          "Mid-Career 75th Percentile Salary",
          "Mid-Career 90th Percentile Salary"
         ],
         "y": [
          9360000,
          6370000,
          7620000,
          12000000,
          16300000
         ]
        },
        {
         "name": "Physician Assistant",
         "type": "bar",
         "uid": "3b7610aa-9e7b-43fa-b1ab-6ee51ef2d3af",
         "x": [
          "Mid-Career Median Salary",
          "Mid-Career 10th Percentile Salary",
          "Mid-Career 25th Percentile Salary",
          "Mid-Career 75th Percentile Salary",
          "Mid-Career 90th Percentile Salary"
         ],
         "y": [
          9170000,
          6640000,
          7520000,
          10800000,
          12400000
         ]
        }
       ],
       "layout": {
        "barmode": "group",
        "margin": {
         "b": 200,
         "pad": 10,
         "t": 100
        },
        "title": "Major and Salary in Cluster Two",
        "xaxis": {
         "tickangle": 50,
         "title": "Career Period"
        },
        "yaxis": {
         "title": "Salary"
        }
       }
      },
      "text/html": [
       "<div id=\"0004e083-398f-4a39-a664-4db1cce916e5\" style=\"height: 525px; width: 100%;\" class=\"plotly-graph-div\"></div><script type=\"text/javascript\">require([\"plotly\"], function(Plotly) { window.PLOTLYENV=window.PLOTLYENV || {};window.PLOTLYENV.BASE_URL=\"https://plot.ly\";Plotly.newPlot(\"0004e083-398f-4a39-a664-4db1cce916e5\", [{\"name\": \"Aerospace Engineering\", \"x\": [\"Mid-Career Median Salary\", \"Mid-Career 10th Percentile Salary\", \"Mid-Career 25th Percentile Salary\", \"Mid-Career 75th Percentile Salary\", \"Mid-Career 90th Percentile Salary\"], \"y\": [10100000.0, 6430000.0, 8210000.0, 12700000.0, 16100000.0], \"type\": \"bar\", \"uid\": \"9a0a8718-c5ee-4d36-a824-441f6567e0c5\"}, {\"name\": \"Chemical Engineering\", \"x\": [\"Mid-Career Median Salary\", \"Mid-Career 10th Percentile Salary\", \"Mid-Career 25th Percentile Salary\", \"Mid-Career 75th Percentile Salary\", \"Mid-Career 90th Percentile Salary\"], \"y\": [10700000.0, 7190000.0, 8730000.0, 14300000.0, 19400000.0], \"type\": \"bar\", \"uid\": \"b6d1aafc-3cc4-41c9-9978-f2c8102cedfc\"}, {\"name\": \"Civil Engineering\", \"x\": [\"Mid-Career Median Salary\", \"Mid-Career 10th Percentile Salary\", \"Mid-Career 25th Percentile Salary\", \"Mid-Career 75th Percentile Salary\", \"Mid-Career 90th Percentile Salary\"], \"y\": [9050000.0, 6340000.0, 7510000.0, 11500000.0, 14800000.0], \"type\": \"bar\", \"uid\": \"7b419a69-247c-44c4-83df-4abb03fbacc1\"}, {\"name\": \"Computer Engineering\", \"x\": [\"Mid-Career Median Salary\", \"Mid-Career 10th Percentile Salary\", \"Mid-Career 25th Percentile Salary\", \"Mid-Career 75th Percentile Salary\", \"Mid-Career 90th Percentile Salary\"], \"y\": [10500000.0, 6610000.0, 8410000.0, 13500000.0, 16200000.0], \"type\": \"bar\", \"uid\": \"b3c47ee2-f697-4b0c-934a-19d02a0eca51\"}, {\"name\": \"Computer Science\", \"x\": [\"Mid-Career Median Salary\", \"Mid-Career 10th Percentile Salary\", \"Mid-Career 25th Percentile Salary\", \"Mid-Career 75th Percentile Salary\", \"Mid-Career 90th Percentile Salary\"], \"y\": [9550000.0, 5600000.0, 7490000.0, 12200000.0, 15400000.0], \"type\": \"bar\", \"uid\": \"75a8f3a2-e554-4080-b324-d376ae54ee42\"}, {\"name\": \"Electrical Engineering\", \"x\": [\"Mid-Career Median Salary\", \"Mid-Career 10th Percentile Salary\", \"Mid-Career 25th Percentile Salary\", \"Mid-Career 75th Percentile Salary\", \"Mid-Career 90th Percentile Salary\"], \"y\": [10300000.0, 6930000.0, 8380000.0, 13000000.0, 16800000.0], \"type\": \"bar\", \"uid\": \"9f94f7a6-feec-454a-9ab8-4ccb661c7c5b\"}, {\"name\": \"Industrial Engineering\", \"x\": [\"Mid-Career Median Salary\", \"Mid-Career 10th Percentile Salary\", \"Mid-Career 25th Percentile Salary\", \"Mid-Career 75th Percentile Salary\", \"Mid-Career 90th Percentile Salary\"], \"y\": [9470000.0, 5710000.0, 7230000.0, 13200000.0, 17300000.0], \"type\": \"bar\", \"uid\": \"3f0c3934-080f-4b92-962e-41a03329246b\"}, {\"name\": \"Mechanical Engineering\", \"x\": [\"Mid-Career Median Salary\", \"Mid-Career 10th Percentile Salary\", \"Mid-Career 25th Percentile Salary\", \"Mid-Career 75th Percentile Salary\", \"Mid-Career 90th Percentile Salary\"], \"y\": [9360000.0, 6370000.0, 7620000.0, 12000000.0, 16300000.0], \"type\": \"bar\", \"uid\": \"51f733be-e451-4abd-9d8f-77e4296e5376\"}, {\"name\": \"Physician Assistant\", \"x\": [\"Mid-Career Median Salary\", \"Mid-Career 10th Percentile Salary\", \"Mid-Career 25th Percentile Salary\", \"Mid-Career 75th Percentile Salary\", \"Mid-Career 90th Percentile Salary\"], \"y\": [9170000.0, 6640000.0, 7520000.0, 10800000.0, 12400000.0], \"type\": \"bar\", \"uid\": \"3b7610aa-9e7b-43fa-b1ab-6ee51ef2d3af\"}], {\"barmode\": \"group\", \"margin\": {\"b\": 200, \"pad\": 10, \"t\": 100}, \"title\": \"Major and Salary in Cluster Two\", \"xaxis\": {\"tickangle\": 50, \"title\": \"Career Period\"}, \"yaxis\": {\"title\": \"Salary\"}}, {\"showLink\": true, \"linkText\": \"Export to plot.ly\", \"plotlyServerURL\": \"https://plot.ly\"})});</script><script type=\"text/javascript\">window.addEventListener(\"resize\", function(){window._Plotly.Plots.resize(document.getElementById(\"0004e083-398f-4a39-a664-4db1cce916e5\"));});</script>"
      ],
      "text/vnd.plotly.v1+html": [
       "<div id=\"0004e083-398f-4a39-a664-4db1cce916e5\" style=\"height: 525px; width: 100%;\" class=\"plotly-graph-div\"></div><script type=\"text/javascript\">require([\"plotly\"], function(Plotly) { window.PLOTLYENV=window.PLOTLYENV || {};window.PLOTLYENV.BASE_URL=\"https://plot.ly\";Plotly.newPlot(\"0004e083-398f-4a39-a664-4db1cce916e5\", [{\"name\": \"Aerospace Engineering\", \"x\": [\"Mid-Career Median Salary\", \"Mid-Career 10th Percentile Salary\", \"Mid-Career 25th Percentile Salary\", \"Mid-Career 75th Percentile Salary\", \"Mid-Career 90th Percentile Salary\"], \"y\": [10100000.0, 6430000.0, 8210000.0, 12700000.0, 16100000.0], \"type\": \"bar\", \"uid\": \"9a0a8718-c5ee-4d36-a824-441f6567e0c5\"}, {\"name\": \"Chemical Engineering\", \"x\": [\"Mid-Career Median Salary\", \"Mid-Career 10th Percentile Salary\", \"Mid-Career 25th Percentile Salary\", \"Mid-Career 75th Percentile Salary\", \"Mid-Career 90th Percentile Salary\"], \"y\": [10700000.0, 7190000.0, 8730000.0, 14300000.0, 19400000.0], \"type\": \"bar\", \"uid\": \"b6d1aafc-3cc4-41c9-9978-f2c8102cedfc\"}, {\"name\": \"Civil Engineering\", \"x\": [\"Mid-Career Median Salary\", \"Mid-Career 10th Percentile Salary\", \"Mid-Career 25th Percentile Salary\", \"Mid-Career 75th Percentile Salary\", \"Mid-Career 90th Percentile Salary\"], \"y\": [9050000.0, 6340000.0, 7510000.0, 11500000.0, 14800000.0], \"type\": \"bar\", \"uid\": \"7b419a69-247c-44c4-83df-4abb03fbacc1\"}, {\"name\": \"Computer Engineering\", \"x\": [\"Mid-Career Median Salary\", \"Mid-Career 10th Percentile Salary\", \"Mid-Career 25th Percentile Salary\", \"Mid-Career 75th Percentile Salary\", \"Mid-Career 90th Percentile Salary\"], \"y\": [10500000.0, 6610000.0, 8410000.0, 13500000.0, 16200000.0], \"type\": \"bar\", \"uid\": \"b3c47ee2-f697-4b0c-934a-19d02a0eca51\"}, {\"name\": \"Computer Science\", \"x\": [\"Mid-Career Median Salary\", \"Mid-Career 10th Percentile Salary\", \"Mid-Career 25th Percentile Salary\", \"Mid-Career 75th Percentile Salary\", \"Mid-Career 90th Percentile Salary\"], \"y\": [9550000.0, 5600000.0, 7490000.0, 12200000.0, 15400000.0], \"type\": \"bar\", \"uid\": \"75a8f3a2-e554-4080-b324-d376ae54ee42\"}, {\"name\": \"Electrical Engineering\", \"x\": [\"Mid-Career Median Salary\", \"Mid-Career 10th Percentile Salary\", \"Mid-Career 25th Percentile Salary\", \"Mid-Career 75th Percentile Salary\", \"Mid-Career 90th Percentile Salary\"], \"y\": [10300000.0, 6930000.0, 8380000.0, 13000000.0, 16800000.0], \"type\": \"bar\", \"uid\": \"9f94f7a6-feec-454a-9ab8-4ccb661c7c5b\"}, {\"name\": \"Industrial Engineering\", \"x\": [\"Mid-Career Median Salary\", \"Mid-Career 10th Percentile Salary\", \"Mid-Career 25th Percentile Salary\", \"Mid-Career 75th Percentile Salary\", \"Mid-Career 90th Percentile Salary\"], \"y\": [9470000.0, 5710000.0, 7230000.0, 13200000.0, 17300000.0], \"type\": \"bar\", \"uid\": \"3f0c3934-080f-4b92-962e-41a03329246b\"}, {\"name\": \"Mechanical Engineering\", \"x\": [\"Mid-Career Median Salary\", \"Mid-Career 10th Percentile Salary\", \"Mid-Career 25th Percentile Salary\", \"Mid-Career 75th Percentile Salary\", \"Mid-Career 90th Percentile Salary\"], \"y\": [9360000.0, 6370000.0, 7620000.0, 12000000.0, 16300000.0], \"type\": \"bar\", \"uid\": \"51f733be-e451-4abd-9d8f-77e4296e5376\"}, {\"name\": \"Physician Assistant\", \"x\": [\"Mid-Career Median Salary\", \"Mid-Career 10th Percentile Salary\", \"Mid-Career 25th Percentile Salary\", \"Mid-Career 75th Percentile Salary\", \"Mid-Career 90th Percentile Salary\"], \"y\": [9170000.0, 6640000.0, 7520000.0, 10800000.0, 12400000.0], \"type\": \"bar\", \"uid\": \"3b7610aa-9e7b-43fa-b1ab-6ee51ef2d3af\"}], {\"barmode\": \"group\", \"margin\": {\"b\": 200, \"pad\": 10, \"t\": 100}, \"title\": \"Major and Salary in Cluster Two\", \"xaxis\": {\"tickangle\": 50, \"title\": \"Career Period\"}, \"yaxis\": {\"title\": \"Salary\"}}, {\"showLink\": true, \"linkText\": \"Export to plot.ly\", \"plotlyServerURL\": \"https://plot.ly\"})});</script><script type=\"text/javascript\">window.addEventListener(\"resize\", function(){window._Plotly.Plots.resize(document.getElementById(\"0004e083-398f-4a39-a664-4db1cce916e5\"));});</script>"
      ]
     },
     "metadata": {},
     "output_type": "display_data"
    }
   ],
   "source": [
    "cluster_two = cluster_two[['Undergraduate Major', 'Mid-Career Median Salary', 'Mid-Career 10th Percentile Salary', 'Mid-Career 25th Percentile Salary', 'Mid-Career 75th Percentile Salary', 'Mid-Career 90th Percentile Salary']]\n",
    "tidy = (\n",
    "    cluster_two.set_index('Undergraduate Major')\n",
    "      .stack()\n",
    "      .reset_index()\n",
    "      .rename(columns={'level_1': 'Variable', 0: 'Value'})\n",
    ")\n",
    "\n",
    "\n",
    "cluster_two_trace_list = []\n",
    "\n",
    "for label, label_df in tidy.groupby('Undergraduate Major'):\n",
    "    cluster_two_trace_list.append(\n",
    "        go.Bar(\n",
    "            x=label_df.Variable,\n",
    "            y=label_df.Value,\n",
    "            name=label\n",
    "        )\n",
    "    )\n",
    "\n",
    "layout = go.Layout(\n",
    "    barmode='group',\n",
    "    title='Major and Salary in Cluster Two',\n",
    "    xaxis = dict(title = 'Career Period', tickangle = 50),\n",
    "    yaxis = dict(title = 'Salary'),\n",
    "    width=800,\n",
    "    margin=go.layout.Margin(\n",
    "            b=200,\n",
    "            t=100,\n",
    "            pad=10\n",
    "        ),\n",
    ")\n",
    "fig = go.Figure(data= cluster_two_trace_list, layout=layout)\n",
    "py.offline.iplot(fig)"
   ]
  },
  {
   "cell_type": "code",
   "execution_count": 14,
   "metadata": {},
   "outputs": [
    {
     "data": {
      "application/vnd.plotly.v1+json": {
       "config": {
        "linkText": "Export to plot.ly",
        "plotlyServerURL": "https://plot.ly",
        "showLink": true
       },
       "data": [
        {
         "name": "Construction",
         "type": "bar",
         "uid": "b6f0cbe6-594d-4de4-a06c-9bd9a0c2bd7a",
         "x": [
          "Mid-Career Median Salary",
          "Mid-Career 10th Percentile Salary",
          "Mid-Career 25th Percentile Salary",
          "Mid-Career 75th Percentile Salary",
          "Mid-Career 90th Percentile Salary"
         ],
         "y": [
          8890000,
          5630000,
          6810000,
          11800000,
          17100000
         ]
        },
        {
         "name": "Economics",
         "type": "bar",
         "uid": "c7aba101-2473-4bcd-84c5-7ed4dad1d4d4",
         "x": [
          "Mid-Career Median Salary",
          "Mid-Career 10th Percentile Salary",
          "Mid-Career 25th Percentile Salary",
          "Mid-Career 75th Percentile Salary",
          "Mid-Career 90th Percentile Salary"
         ],
         "y": [
          9860000,
          5060000,
          7060000,
          14500000,
          21000000
         ]
        },
        {
         "name": "Finance",
         "type": "bar",
         "uid": "f51b8f2e-0424-4dd8-a406-92e995cd7cb3",
         "x": [
          "Mid-Career Median Salary",
          "Mid-Career 10th Percentile Salary",
          "Mid-Career 25th Percentile Salary",
          "Mid-Career 75th Percentile Salary",
          "Mid-Career 90th Percentile Salary"
         ],
         "y": [
          8830000,
          4720000,
          6210000,
          12800000,
          19500000
         ]
        },
        {
         "name": "Math",
         "type": "bar",
         "uid": "8886d124-6d66-468d-8203-ebe863fde691",
         "x": [
          "Mid-Career Median Salary",
          "Mid-Career 10th Percentile Salary",
          "Mid-Career 25th Percentile Salary",
          "Mid-Career 75th Percentile Salary",
          "Mid-Career 90th Percentile Salary"
         ],
         "y": [
          9240000,
          4520000,
          6420000,
          12800000,
          18300000
         ]
        },
        {
         "name": "Physics",
         "type": "bar",
         "uid": "e443581e-45cf-485f-881f-3db13770e5cb",
         "x": [
          "Mid-Career Median Salary",
          "Mid-Career 10th Percentile Salary",
          "Mid-Career 25th Percentile Salary",
          "Mid-Career 75th Percentile Salary",
          "Mid-Career 90th Percentile Salary"
         ],
         "y": [
          9730000,
          5600000,
          7420000,
          13200000,
          17800000
         ]
        }
       ],
       "layout": {
        "barmode": "group",
        "margin": {
         "b": 200,
         "pad": 10,
         "t": 100
        },
        "title": "Major and Salary in Cluster Three",
        "xaxis": {
         "tickangle": 50,
         "title": "Career Period"
        },
        "yaxis": {
         "title": "Salary"
        }
       }
      },
      "text/html": [
       "<div id=\"8e04778e-9ff7-42ef-a2ea-8c88af6b22ae\" style=\"height: 525px; width: 100%;\" class=\"plotly-graph-div\"></div><script type=\"text/javascript\">require([\"plotly\"], function(Plotly) { window.PLOTLYENV=window.PLOTLYENV || {};window.PLOTLYENV.BASE_URL=\"https://plot.ly\";Plotly.newPlot(\"8e04778e-9ff7-42ef-a2ea-8c88af6b22ae\", [{\"name\": \"Construction\", \"x\": [\"Mid-Career Median Salary\", \"Mid-Career 10th Percentile Salary\", \"Mid-Career 25th Percentile Salary\", \"Mid-Career 75th Percentile Salary\", \"Mid-Career 90th Percentile Salary\"], \"y\": [8890000.0, 5630000.0, 6810000.0, 11800000.0, 17100000.0], \"type\": \"bar\", \"uid\": \"b6f0cbe6-594d-4de4-a06c-9bd9a0c2bd7a\"}, {\"name\": \"Economics\", \"x\": [\"Mid-Career Median Salary\", \"Mid-Career 10th Percentile Salary\", \"Mid-Career 25th Percentile Salary\", \"Mid-Career 75th Percentile Salary\", \"Mid-Career 90th Percentile Salary\"], \"y\": [9860000.0, 5060000.0, 7060000.0, 14500000.0, 21000000.0], \"type\": \"bar\", \"uid\": \"c7aba101-2473-4bcd-84c5-7ed4dad1d4d4\"}, {\"name\": \"Finance\", \"x\": [\"Mid-Career Median Salary\", \"Mid-Career 10th Percentile Salary\", \"Mid-Career 25th Percentile Salary\", \"Mid-Career 75th Percentile Salary\", \"Mid-Career 90th Percentile Salary\"], \"y\": [8830000.0, 4720000.0, 6210000.0, 12800000.0, 19500000.0], \"type\": \"bar\", \"uid\": \"f51b8f2e-0424-4dd8-a406-92e995cd7cb3\"}, {\"name\": \"Math\", \"x\": [\"Mid-Career Median Salary\", \"Mid-Career 10th Percentile Salary\", \"Mid-Career 25th Percentile Salary\", \"Mid-Career 75th Percentile Salary\", \"Mid-Career 90th Percentile Salary\"], \"y\": [9240000.0, 4520000.0, 6420000.0, 12800000.0, 18300000.0], \"type\": \"bar\", \"uid\": \"8886d124-6d66-468d-8203-ebe863fde691\"}, {\"name\": \"Physics\", \"x\": [\"Mid-Career Median Salary\", \"Mid-Career 10th Percentile Salary\", \"Mid-Career 25th Percentile Salary\", \"Mid-Career 75th Percentile Salary\", \"Mid-Career 90th Percentile Salary\"], \"y\": [9730000.0, 5600000.0, 7420000.0, 13200000.0, 17800000.0], \"type\": \"bar\", \"uid\": \"e443581e-45cf-485f-881f-3db13770e5cb\"}], {\"barmode\": \"group\", \"margin\": {\"b\": 200, \"pad\": 10, \"t\": 100}, \"title\": \"Major and Salary in Cluster Three\", \"xaxis\": {\"tickangle\": 50, \"title\": \"Career Period\"}, \"yaxis\": {\"title\": \"Salary\"}}, {\"showLink\": true, \"linkText\": \"Export to plot.ly\", \"plotlyServerURL\": \"https://plot.ly\"})});</script><script type=\"text/javascript\">window.addEventListener(\"resize\", function(){window._Plotly.Plots.resize(document.getElementById(\"8e04778e-9ff7-42ef-a2ea-8c88af6b22ae\"));});</script>"
      ],
      "text/vnd.plotly.v1+html": [
       "<div id=\"8e04778e-9ff7-42ef-a2ea-8c88af6b22ae\" style=\"height: 525px; width: 100%;\" class=\"plotly-graph-div\"></div><script type=\"text/javascript\">require([\"plotly\"], function(Plotly) { window.PLOTLYENV=window.PLOTLYENV || {};window.PLOTLYENV.BASE_URL=\"https://plot.ly\";Plotly.newPlot(\"8e04778e-9ff7-42ef-a2ea-8c88af6b22ae\", [{\"name\": \"Construction\", \"x\": [\"Mid-Career Median Salary\", \"Mid-Career 10th Percentile Salary\", \"Mid-Career 25th Percentile Salary\", \"Mid-Career 75th Percentile Salary\", \"Mid-Career 90th Percentile Salary\"], \"y\": [8890000.0, 5630000.0, 6810000.0, 11800000.0, 17100000.0], \"type\": \"bar\", \"uid\": \"b6f0cbe6-594d-4de4-a06c-9bd9a0c2bd7a\"}, {\"name\": \"Economics\", \"x\": [\"Mid-Career Median Salary\", \"Mid-Career 10th Percentile Salary\", \"Mid-Career 25th Percentile Salary\", \"Mid-Career 75th Percentile Salary\", \"Mid-Career 90th Percentile Salary\"], \"y\": [9860000.0, 5060000.0, 7060000.0, 14500000.0, 21000000.0], \"type\": \"bar\", \"uid\": \"c7aba101-2473-4bcd-84c5-7ed4dad1d4d4\"}, {\"name\": \"Finance\", \"x\": [\"Mid-Career Median Salary\", \"Mid-Career 10th Percentile Salary\", \"Mid-Career 25th Percentile Salary\", \"Mid-Career 75th Percentile Salary\", \"Mid-Career 90th Percentile Salary\"], \"y\": [8830000.0, 4720000.0, 6210000.0, 12800000.0, 19500000.0], \"type\": \"bar\", \"uid\": \"f51b8f2e-0424-4dd8-a406-92e995cd7cb3\"}, {\"name\": \"Math\", \"x\": [\"Mid-Career Median Salary\", \"Mid-Career 10th Percentile Salary\", \"Mid-Career 25th Percentile Salary\", \"Mid-Career 75th Percentile Salary\", \"Mid-Career 90th Percentile Salary\"], \"y\": [9240000.0, 4520000.0, 6420000.0, 12800000.0, 18300000.0], \"type\": \"bar\", \"uid\": \"8886d124-6d66-468d-8203-ebe863fde691\"}, {\"name\": \"Physics\", \"x\": [\"Mid-Career Median Salary\", \"Mid-Career 10th Percentile Salary\", \"Mid-Career 25th Percentile Salary\", \"Mid-Career 75th Percentile Salary\", \"Mid-Career 90th Percentile Salary\"], \"y\": [9730000.0, 5600000.0, 7420000.0, 13200000.0, 17800000.0], \"type\": \"bar\", \"uid\": \"e443581e-45cf-485f-881f-3db13770e5cb\"}], {\"barmode\": \"group\", \"margin\": {\"b\": 200, \"pad\": 10, \"t\": 100}, \"title\": \"Major and Salary in Cluster Three\", \"xaxis\": {\"tickangle\": 50, \"title\": \"Career Period\"}, \"yaxis\": {\"title\": \"Salary\"}}, {\"showLink\": true, \"linkText\": \"Export to plot.ly\", \"plotlyServerURL\": \"https://plot.ly\"})});</script><script type=\"text/javascript\">window.addEventListener(\"resize\", function(){window._Plotly.Plots.resize(document.getElementById(\"8e04778e-9ff7-42ef-a2ea-8c88af6b22ae\"));});</script>"
      ]
     },
     "metadata": {},
     "output_type": "display_data"
    }
   ],
   "source": [
    "cluster_three = cluster_three[['Undergraduate Major', 'Mid-Career Median Salary', 'Mid-Career 10th Percentile Salary', 'Mid-Career 25th Percentile Salary', 'Mid-Career 75th Percentile Salary', 'Mid-Career 90th Percentile Salary']]\n",
    "tidy = (\n",
    "    cluster_three.set_index('Undergraduate Major')\n",
    "      .stack()\n",
    "      .reset_index()\n",
    "      .rename(columns={'level_1': 'Variable', 0: 'Value'})\n",
    ")\n",
    "\n",
    "cluster_three_trace_list = []\n",
    "\n",
    "for label, label_df in tidy.groupby('Undergraduate Major'):\n",
    "    cluster_three_trace_list.append(\n",
    "        go.Bar(\n",
    "            x=label_df.Variable,\n",
    "            y=label_df.Value,\n",
    "            name=label\n",
    "        )\n",
    "    )\n",
    "\n",
    "layout = go.Layout(\n",
    "    barmode='group',\n",
    "    title='Major and Salary in Cluster Three',\n",
    "    xaxis = dict(title = 'Career Period', tickangle = 50),\n",
    "    yaxis = dict(title = 'Salary'),\n",
    "    width=800,\n",
    "    margin=go.layout.Margin(\n",
    "            b=200,\n",
    "            t=100,\n",
    "            pad=10\n",
    "        ),\n",
    ")\n",
    "fig = go.Figure(data= cluster_three_trace_list, layout=layout)\n",
    "py.offline.iplot(fig)"
   ]
  },
  {
   "cell_type": "code",
   "execution_count": 15,
   "metadata": {},
   "outputs": [
    {
     "data": {
      "application/vnd.plotly.v1+json": {
       "config": {
        "linkText": "Export to plot.ly",
        "plotlyServerURL": "https://plot.ly",
        "showLink": true
       },
       "data": [
        {
         "name": "Criminal Justice",
         "type": "bar",
         "uid": "aa5d0f61-63a2-4d63-8397-486145ec14f4",
         "x": [
          "Mid-Career Median Salary",
          "Mid-Career 10th Percentile Salary",
          "Mid-Career 25th Percentile Salary",
          "Mid-Career 75th Percentile Salary",
          "Mid-Career 90th Percentile Salary"
         ],
         "y": [
          5630000,
          3220000,
          4160000,
          8070000,
          10700000
         ]
        },
        {
         "name": "Education",
         "type": "bar",
         "uid": "692a0db8-5d7f-4372-b047-351254820465",
         "x": [
          "Mid-Career Median Salary",
          "Mid-Career 10th Percentile Salary",
          "Mid-Career 25th Percentile Salary",
          "Mid-Career 75th Percentile Salary",
          "Mid-Career 90th Percentile Salary"
         ],
         "y": [
          5200000,
          2930000,
          3790000,
          7340000,
          10200000
         ]
        },
        {
         "name": "Forestry",
         "type": "bar",
         "uid": "14e12201-127a-43de-8ee9-918870065f62",
         "x": [
          "Mid-Career Median Salary",
          "Mid-Career 10th Percentile Salary",
          "Mid-Career 25th Percentile Salary",
          "Mid-Career 75th Percentile Salary",
          "Mid-Career 90th Percentile Salary"
         ],
         "y": [
          6260000,
          4100000,
          4930000,
          7820000,
          11100000
         ]
        },
        {
         "name": "Graphic Design",
         "type": "bar",
         "uid": "150b13cf-6ef7-4663-9e5d-734bfd0cb481",
         "x": [
          "Mid-Career Median Salary",
          "Mid-Career 10th Percentile Salary",
          "Mid-Career 25th Percentile Salary",
          "Mid-Career 75th Percentile Salary",
          "Mid-Career 90th Percentile Salary"
         ],
         "y": [
          5980000,
          3600000,
          4550000,
          8080000,
          11200000
         ]
        },
        {
         "name": "Health Care Administration",
         "type": "bar",
         "uid": "9c702272-cb13-4eef-9e52-321f2c55139e",
         "x": [
          "Mid-Career Median Salary",
          "Mid-Career 10th Percentile Salary",
          "Mid-Career 25th Percentile Salary",
          "Mid-Career 75th Percentile Salary",
          "Mid-Career 90th Percentile Salary"
         ],
         "y": [
          6060000,
          3460000,
          4560000,
          7880000,
          10100000
         ]
        },
        {
         "name": "Interior Design",
         "type": "bar",
         "uid": "69790e40-1bf4-4d91-a567-8a425ec99e88",
         "x": [
          "Mid-Career Median Salary",
          "Mid-Career 10th Percentile Salary",
          "Mid-Career 25th Percentile Salary",
          "Mid-Career 75th Percentile Salary",
          "Mid-Career 90th Percentile Salary"
         ],
         "y": [
          5320000,
          3570000,
          4260000,
          7250000,
          10700000
         ]
        },
        {
         "name": "Nursing",
         "type": "bar",
         "uid": "df4456e6-d22f-4869-9caa-a6ac5e6e6987",
         "x": [
          "Mid-Career Median Salary",
          "Mid-Career 10th Percentile Salary",
          "Mid-Career 25th Percentile Salary",
          "Mid-Career 75th Percentile Salary",
          "Mid-Career 90th Percentile Salary"
         ],
         "y": [
          6700000,
          4760000,
          5640000,
          8090000,
          9830000
         ]
        },
        {
         "name": "Nutrition",
         "type": "bar",
         "uid": "d0d36228-8e6b-4119-9084-59f1c4565b79",
         "x": [
          "Mid-Career Median Salary",
          "Mid-Career 10th Percentile Salary",
          "Mid-Career 25th Percentile Salary",
          "Mid-Career 75th Percentile Salary",
          "Mid-Career 90th Percentile Salary"
         ],
         "y": [
          5530000,
          3390000,
          4450000,
          7050000,
          9920000
         ]
        },
        {
         "name": "Religion",
         "type": "bar",
         "uid": "dd7b247f-c58c-4cb7-9487-5570d966a682",
         "x": [
          "Mid-Career Median Salary",
          "Mid-Career 10th Percentile Salary",
          "Mid-Career 25th Percentile Salary",
          "Mid-Career 75th Percentile Salary",
          "Mid-Career 90th Percentile Salary"
         ],
         "y": [
          5200000,
          2970000,
          3650000,
          7090000,
          9640000
         ]
        },
        {
         "name": "Sociology",
         "type": "bar",
         "uid": "92e14a54-b891-40f2-816f-b65cde1dd9de",
         "x": [
          "Mid-Career Median Salary",
          "Mid-Career 10th Percentile Salary",
          "Mid-Career 25th Percentile Salary",
          "Mid-Career 75th Percentile Salary",
          "Mid-Career 90th Percentile Salary"
         ],
         "y": [
          5820000,
          3070000,
          4040000,
          8120000,
          11800000
         ]
        },
        {
         "name": "Spanish",
         "type": "bar",
         "uid": "b4d7718b-ba01-4b80-a427-4fd3f21ff7ff",
         "x": [
          "Mid-Career Median Salary",
          "Mid-Career 10th Percentile Salary",
          "Mid-Career 25th Percentile Salary",
          "Mid-Career 75th Percentile Salary",
          "Mid-Career 90th Percentile Salary"
         ],
         "y": [
          5310000,
          3100000,
          4000000,
          7680000,
          9640000
         ]
        }
       ],
       "layout": {
        "barmode": "group",
        "margin": {
         "b": 200,
         "pad": 10,
         "t": 100
        },
        "title": "Major and Salary in Cluster Four",
        "width": 1000,
        "xaxis": {
         "tickangle": 50,
         "title": "Career Period"
        },
        "yaxis": {
         "title": "Salary"
        }
       }
      },
      "text/html": [
       "<div id=\"e9e63a04-69f7-4ef2-842f-1d89bdd74819\" style=\"height: 525px; width: 1000px;\" class=\"plotly-graph-div\"></div><script type=\"text/javascript\">require([\"plotly\"], function(Plotly) { window.PLOTLYENV=window.PLOTLYENV || {};window.PLOTLYENV.BASE_URL=\"https://plot.ly\";Plotly.newPlot(\"e9e63a04-69f7-4ef2-842f-1d89bdd74819\", [{\"name\": \"Criminal Justice\", \"x\": [\"Mid-Career Median Salary\", \"Mid-Career 10th Percentile Salary\", \"Mid-Career 25th Percentile Salary\", \"Mid-Career 75th Percentile Salary\", \"Mid-Career 90th Percentile Salary\"], \"y\": [5630000.0, 3220000.0, 4160000.0, 8070000.0, 10700000.0], \"type\": \"bar\", \"uid\": \"aa5d0f61-63a2-4d63-8397-486145ec14f4\"}, {\"name\": \"Education\", \"x\": [\"Mid-Career Median Salary\", \"Mid-Career 10th Percentile Salary\", \"Mid-Career 25th Percentile Salary\", \"Mid-Career 75th Percentile Salary\", \"Mid-Career 90th Percentile Salary\"], \"y\": [5200000.0, 2930000.0, 3790000.0, 7340000.0, 10200000.0], \"type\": \"bar\", \"uid\": \"692a0db8-5d7f-4372-b047-351254820465\"}, {\"name\": \"Forestry\", \"x\": [\"Mid-Career Median Salary\", \"Mid-Career 10th Percentile Salary\", \"Mid-Career 25th Percentile Salary\", \"Mid-Career 75th Percentile Salary\", \"Mid-Career 90th Percentile Salary\"], \"y\": [6260000.0, 4100000.0, 4930000.0, 7820000.0, 11100000.0], \"type\": \"bar\", \"uid\": \"14e12201-127a-43de-8ee9-918870065f62\"}, {\"name\": \"Graphic Design\", \"x\": [\"Mid-Career Median Salary\", \"Mid-Career 10th Percentile Salary\", \"Mid-Career 25th Percentile Salary\", \"Mid-Career 75th Percentile Salary\", \"Mid-Career 90th Percentile Salary\"], \"y\": [5980000.0, 3600000.0, 4550000.0, 8080000.0, 11200000.0], \"type\": \"bar\", \"uid\": \"150b13cf-6ef7-4663-9e5d-734bfd0cb481\"}, {\"name\": \"Health Care Administration\", \"x\": [\"Mid-Career Median Salary\", \"Mid-Career 10th Percentile Salary\", \"Mid-Career 25th Percentile Salary\", \"Mid-Career 75th Percentile Salary\", \"Mid-Career 90th Percentile Salary\"], \"y\": [6060000.0, 3460000.0, 4560000.0, 7880000.0, 10100000.0], \"type\": \"bar\", \"uid\": \"9c702272-cb13-4eef-9e52-321f2c55139e\"}, {\"name\": \"Interior Design\", \"x\": [\"Mid-Career Median Salary\", \"Mid-Career 10th Percentile Salary\", \"Mid-Career 25th Percentile Salary\", \"Mid-Career 75th Percentile Salary\", \"Mid-Career 90th Percentile Salary\"], \"y\": [5320000.0, 3570000.0, 4260000.0, 7250000.0, 10700000.0], \"type\": \"bar\", \"uid\": \"69790e40-1bf4-4d91-a567-8a425ec99e88\"}, {\"name\": \"Nursing\", \"x\": [\"Mid-Career Median Salary\", \"Mid-Career 10th Percentile Salary\", \"Mid-Career 25th Percentile Salary\", \"Mid-Career 75th Percentile Salary\", \"Mid-Career 90th Percentile Salary\"], \"y\": [6700000.0, 4760000.0, 5640000.0, 8090000.0, 9830000.0], \"type\": \"bar\", \"uid\": \"df4456e6-d22f-4869-9caa-a6ac5e6e6987\"}, {\"name\": \"Nutrition\", \"x\": [\"Mid-Career Median Salary\", \"Mid-Career 10th Percentile Salary\", \"Mid-Career 25th Percentile Salary\", \"Mid-Career 75th Percentile Salary\", \"Mid-Career 90th Percentile Salary\"], \"y\": [5530000.0, 3390000.0, 4450000.0, 7050000.0, 9920000.0], \"type\": \"bar\", \"uid\": \"d0d36228-8e6b-4119-9084-59f1c4565b79\"}, {\"name\": \"Religion\", \"x\": [\"Mid-Career Median Salary\", \"Mid-Career 10th Percentile Salary\", \"Mid-Career 25th Percentile Salary\", \"Mid-Career 75th Percentile Salary\", \"Mid-Career 90th Percentile Salary\"], \"y\": [5200000.0, 2970000.0, 3650000.0, 7090000.0, 9640000.0], \"type\": \"bar\", \"uid\": \"dd7b247f-c58c-4cb7-9487-5570d966a682\"}, {\"name\": \"Sociology\", \"x\": [\"Mid-Career Median Salary\", \"Mid-Career 10th Percentile Salary\", \"Mid-Career 25th Percentile Salary\", \"Mid-Career 75th Percentile Salary\", \"Mid-Career 90th Percentile Salary\"], \"y\": [5820000.0, 3070000.0, 4040000.0, 8120000.0, 11800000.0], \"type\": \"bar\", \"uid\": \"92e14a54-b891-40f2-816f-b65cde1dd9de\"}, {\"name\": \"Spanish\", \"x\": [\"Mid-Career Median Salary\", \"Mid-Career 10th Percentile Salary\", \"Mid-Career 25th Percentile Salary\", \"Mid-Career 75th Percentile Salary\", \"Mid-Career 90th Percentile Salary\"], \"y\": [5310000.0, 3100000.0, 4000000.0, 7680000.0, 9640000.0], \"type\": \"bar\", \"uid\": \"b4d7718b-ba01-4b80-a427-4fd3f21ff7ff\"}], {\"barmode\": \"group\", \"margin\": {\"b\": 200, \"pad\": 10, \"t\": 100}, \"title\": \"Major and Salary in Cluster Four\", \"width\": 1000, \"xaxis\": {\"tickangle\": 50, \"title\": \"Career Period\"}, \"yaxis\": {\"title\": \"Salary\"}}, {\"showLink\": true, \"linkText\": \"Export to plot.ly\", \"plotlyServerURL\": \"https://plot.ly\"})});</script>"
      ],
      "text/vnd.plotly.v1+html": [
       "<div id=\"e9e63a04-69f7-4ef2-842f-1d89bdd74819\" style=\"height: 525px; width: 1000px;\" class=\"plotly-graph-div\"></div><script type=\"text/javascript\">require([\"plotly\"], function(Plotly) { window.PLOTLYENV=window.PLOTLYENV || {};window.PLOTLYENV.BASE_URL=\"https://plot.ly\";Plotly.newPlot(\"e9e63a04-69f7-4ef2-842f-1d89bdd74819\", [{\"name\": \"Criminal Justice\", \"x\": [\"Mid-Career Median Salary\", \"Mid-Career 10th Percentile Salary\", \"Mid-Career 25th Percentile Salary\", \"Mid-Career 75th Percentile Salary\", \"Mid-Career 90th Percentile Salary\"], \"y\": [5630000.0, 3220000.0, 4160000.0, 8070000.0, 10700000.0], \"type\": \"bar\", \"uid\": \"aa5d0f61-63a2-4d63-8397-486145ec14f4\"}, {\"name\": \"Education\", \"x\": [\"Mid-Career Median Salary\", \"Mid-Career 10th Percentile Salary\", \"Mid-Career 25th Percentile Salary\", \"Mid-Career 75th Percentile Salary\", \"Mid-Career 90th Percentile Salary\"], \"y\": [5200000.0, 2930000.0, 3790000.0, 7340000.0, 10200000.0], \"type\": \"bar\", \"uid\": \"692a0db8-5d7f-4372-b047-351254820465\"}, {\"name\": \"Forestry\", \"x\": [\"Mid-Career Median Salary\", \"Mid-Career 10th Percentile Salary\", \"Mid-Career 25th Percentile Salary\", \"Mid-Career 75th Percentile Salary\", \"Mid-Career 90th Percentile Salary\"], \"y\": [6260000.0, 4100000.0, 4930000.0, 7820000.0, 11100000.0], \"type\": \"bar\", \"uid\": \"14e12201-127a-43de-8ee9-918870065f62\"}, {\"name\": \"Graphic Design\", \"x\": [\"Mid-Career Median Salary\", \"Mid-Career 10th Percentile Salary\", \"Mid-Career 25th Percentile Salary\", \"Mid-Career 75th Percentile Salary\", \"Mid-Career 90th Percentile Salary\"], \"y\": [5980000.0, 3600000.0, 4550000.0, 8080000.0, 11200000.0], \"type\": \"bar\", \"uid\": \"150b13cf-6ef7-4663-9e5d-734bfd0cb481\"}, {\"name\": \"Health Care Administration\", \"x\": [\"Mid-Career Median Salary\", \"Mid-Career 10th Percentile Salary\", \"Mid-Career 25th Percentile Salary\", \"Mid-Career 75th Percentile Salary\", \"Mid-Career 90th Percentile Salary\"], \"y\": [6060000.0, 3460000.0, 4560000.0, 7880000.0, 10100000.0], \"type\": \"bar\", \"uid\": \"9c702272-cb13-4eef-9e52-321f2c55139e\"}, {\"name\": \"Interior Design\", \"x\": [\"Mid-Career Median Salary\", \"Mid-Career 10th Percentile Salary\", \"Mid-Career 25th Percentile Salary\", \"Mid-Career 75th Percentile Salary\", \"Mid-Career 90th Percentile Salary\"], \"y\": [5320000.0, 3570000.0, 4260000.0, 7250000.0, 10700000.0], \"type\": \"bar\", \"uid\": \"69790e40-1bf4-4d91-a567-8a425ec99e88\"}, {\"name\": \"Nursing\", \"x\": [\"Mid-Career Median Salary\", \"Mid-Career 10th Percentile Salary\", \"Mid-Career 25th Percentile Salary\", \"Mid-Career 75th Percentile Salary\", \"Mid-Career 90th Percentile Salary\"], \"y\": [6700000.0, 4760000.0, 5640000.0, 8090000.0, 9830000.0], \"type\": \"bar\", \"uid\": \"df4456e6-d22f-4869-9caa-a6ac5e6e6987\"}, {\"name\": \"Nutrition\", \"x\": [\"Mid-Career Median Salary\", \"Mid-Career 10th Percentile Salary\", \"Mid-Career 25th Percentile Salary\", \"Mid-Career 75th Percentile Salary\", \"Mid-Career 90th Percentile Salary\"], \"y\": [5530000.0, 3390000.0, 4450000.0, 7050000.0, 9920000.0], \"type\": \"bar\", \"uid\": \"d0d36228-8e6b-4119-9084-59f1c4565b79\"}, {\"name\": \"Religion\", \"x\": [\"Mid-Career Median Salary\", \"Mid-Career 10th Percentile Salary\", \"Mid-Career 25th Percentile Salary\", \"Mid-Career 75th Percentile Salary\", \"Mid-Career 90th Percentile Salary\"], \"y\": [5200000.0, 2970000.0, 3650000.0, 7090000.0, 9640000.0], \"type\": \"bar\", \"uid\": \"dd7b247f-c58c-4cb7-9487-5570d966a682\"}, {\"name\": \"Sociology\", \"x\": [\"Mid-Career Median Salary\", \"Mid-Career 10th Percentile Salary\", \"Mid-Career 25th Percentile Salary\", \"Mid-Career 75th Percentile Salary\", \"Mid-Career 90th Percentile Salary\"], \"y\": [5820000.0, 3070000.0, 4040000.0, 8120000.0, 11800000.0], \"type\": \"bar\", \"uid\": \"92e14a54-b891-40f2-816f-b65cde1dd9de\"}, {\"name\": \"Spanish\", \"x\": [\"Mid-Career Median Salary\", \"Mid-Career 10th Percentile Salary\", \"Mid-Career 25th Percentile Salary\", \"Mid-Career 75th Percentile Salary\", \"Mid-Career 90th Percentile Salary\"], \"y\": [5310000.0, 3100000.0, 4000000.0, 7680000.0, 9640000.0], \"type\": \"bar\", \"uid\": \"b4d7718b-ba01-4b80-a427-4fd3f21ff7ff\"}], {\"barmode\": \"group\", \"margin\": {\"b\": 200, \"pad\": 10, \"t\": 100}, \"title\": \"Major and Salary in Cluster Four\", \"width\": 1000, \"xaxis\": {\"tickangle\": 50, \"title\": \"Career Period\"}, \"yaxis\": {\"title\": \"Salary\"}}, {\"showLink\": true, \"linkText\": \"Export to plot.ly\", \"plotlyServerURL\": \"https://plot.ly\"})});</script>"
      ]
     },
     "metadata": {},
     "output_type": "display_data"
    }
   ],
   "source": [
    "cluster_four = cluster_four[['Undergraduate Major', 'Mid-Career Median Salary', 'Mid-Career 10th Percentile Salary', 'Mid-Career 25th Percentile Salary', 'Mid-Career 75th Percentile Salary', 'Mid-Career 90th Percentile Salary']]\n",
    "tidy = (\n",
    "    cluster_four.set_index('Undergraduate Major')\n",
    "      .stack()\n",
    "      .reset_index()\n",
    "      .rename(columns={'level_1': 'Variable', 0: 'Value'})\n",
    ")\n",
    "\n",
    "\n",
    "cluster_four_trace_list = []\n",
    "\n",
    "for label, label_df in tidy.groupby('Undergraduate Major'):\n",
    "    cluster_four_trace_list.append(\n",
    "        go.Bar(\n",
    "            x=label_df.Variable,\n",
    "            y=label_df.Value,\n",
    "            name=label\n",
    "        )\n",
    "    )\n",
    "\n",
    "layout = go.Layout(\n",
    "    barmode='group',\n",
    "    title='Major and Salary in Cluster Four',\n",
    "    xaxis = dict(title = 'Career Period', tickangle = 50),\n",
    "    yaxis = dict(title = 'Salary'),\n",
    "    width=800,\n",
    "    margin=go.layout.Margin(\n",
    "            b=200,\n",
    "            t=100,\n",
    "            pad=10\n",
    "        ),\n",
    ")\n",
    "fig = go.Figure(data= cluster_four_trace_list, layout=layout)\n",
    "py.offline.iplot(fig)\n"
   ]
  },
  {
   "cell_type": "code",
   "execution_count": 19,
   "metadata": {},
   "outputs": [
    {
     "data": {
      "application/vnd.plotly.v1+json": {
       "config": {
        "linkText": "Export to plot.ly",
        "plotlyServerURL": "https://plot.ly",
        "showLink": true
       },
       "data": [
        {
         "name": "Accounting",
         "type": "bar",
         "uid": "37f6d2bd-ad85-40d8-93b4-558778618e29",
         "x": [
          "Mid-Career Median Salary",
          "Mid-Career 10th Percentile Salary",
          "Mid-Career 25th Percentile Salary",
          "Mid-Career 75th Percentile Salary",
          "Mid-Career 90th Percentile Salary"
         ],
         "y": [
          7710000,
          4220000,
          5610000,
          10800000,
          15200000
         ]
        },
        {
         "name": "Agriculture",
         "type": "bar",
         "uid": "25128907-cfc4-4f94-8050-a13986223ec2",
         "x": [
          "Mid-Career Median Salary",
          "Mid-Career 10th Percentile Salary",
          "Mid-Career 25th Percentile Salary",
          "Mid-Career 75th Percentile Salary",
          "Mid-Career 90th Percentile Salary"
         ],
         "y": [
          7190000,
          3630000,
          5210000,
          9630000,
          15000000
         ]
        },
        {
         "name": "Architecture",
         "type": "bar",
         "uid": "5149ea02-d412-467d-a3ac-b84bebcce1a7",
         "x": [
          "Mid-Career Median Salary",
          "Mid-Career 10th Percentile Salary",
          "Mid-Career 25th Percentile Salary",
          "Mid-Career 75th Percentile Salary",
          "Mid-Career 90th Percentile Salary"
         ],
         "y": [
          7680000,
          5060000,
          6220000,
          9700000,
          13600000
         ]
        },
        {
         "name": "Business Management",
         "type": "bar",
         "uid": "d066fd06-1594-4e14-87be-cbe0d578bedb",
         "x": [
          "Mid-Career Median Salary",
          "Mid-Career 10th Percentile Salary",
          "Mid-Career 25th Percentile Salary",
          "Mid-Career 75th Percentile Salary",
          "Mid-Career 90th Percentile Salary"
         ],
         "y": [
          7210000,
          3880000,
          5150000,
          10200000,
          14700000
         ]
        },
        {
         "name": "Chemistry",
         "type": "bar",
         "uid": "ee9e5e84-84f7-4bfa-80d0-4fa89627bf3f",
         "x": [
          "Mid-Career Median Salary",
          "Mid-Career 10th Percentile Salary",
          "Mid-Career 25th Percentile Salary",
          "Mid-Career 75th Percentile Salary",
          "Mid-Career 90th Percentile Salary"
         ],
         "y": [
          7990000,
          4530000,
          6070000,
          10800000,
          14800000
         ]
        },
        {
         "name": "Geology",
         "type": "bar",
         "uid": "c27d3e20-4bca-42d7-b766-1a2a5e28f8b7",
         "x": [
          "Mid-Career Median Salary",
          "Mid-Career 10th Percentile Salary",
          "Mid-Career 25th Percentile Salary",
          "Mid-Career 75th Percentile Salary",
          "Mid-Career 90th Percentile Salary"
         ],
         "y": [
          7950000,
          4500000,
          5960000,
          10100000,
          15600000
         ]
        },
        {
         "name": "History",
         "type": "bar",
         "uid": "2049d55b-0023-477c-a8f4-c86e078dc87f",
         "x": [
          "Mid-Career Median Salary",
          "Mid-Career 10th Percentile Salary",
          "Mid-Career 25th Percentile Salary",
          "Mid-Career 75th Percentile Salary",
          "Mid-Career 90th Percentile Salary"
         ],
         "y": [
          7100000,
          3700000,
          4920000,
          10300000,
          14900000
         ]
        },
        {
         "name": "Information Technology (IT)",
         "type": "bar",
         "uid": "f74c22a3-bde9-4f7d-971b-b8da31eb3e28",
         "x": [
          "Mid-Career Median Salary",
          "Mid-Career 10th Percentile Salary",
          "Mid-Career 25th Percentile Salary",
          "Mid-Career 75th Percentile Salary",
          "Mid-Career 90th Percentile Salary"
         ],
         "y": [
          7480000,
          4450000,
          5670000,
          9670000,
          12900000
         ]
        },
        {
         "name": "International Relations",
         "type": "bar",
         "uid": "7bdaf042-121f-4682-8865-6352f6f410b6",
         "x": [
          "Mid-Career Median Salary",
          "Mid-Career 10th Percentile Salary",
          "Mid-Career 25th Percentile Salary",
          "Mid-Career 75th Percentile Salary",
          "Mid-Career 90th Percentile Salary"
         ],
         "y": [
          8090000,
          3820000,
          5600000,
          11100000,
          15700000
         ]
        },
        {
         "name": "Management Information Systems (MIS)",
         "type": "bar",
         "uid": "85a839d4-a3de-4e5d-a676-f7abc450b753",
         "x": [
          "Mid-Career Median Salary",
          "Mid-Career 10th Percentile Salary",
          "Mid-Career 25th Percentile Salary",
          "Mid-Career 75th Percentile Salary",
          "Mid-Career 90th Percentile Salary"
         ],
         "y": [
          8230000,
          4530000,
          6050000,
          10800000,
          14600000
         ]
        },
        {
         "name": "Marketing",
         "type": "bar",
         "uid": "76c142db-0ef5-4f3d-91b9-d196b28ed821",
         "x": [
          "Mid-Career Median Salary",
          "Mid-Career 10th Percentile Salary",
          "Mid-Career 25th Percentile Salary",
          "Mid-Career 75th Percentile Salary",
          "Mid-Career 90th Percentile Salary"
         ],
         "y": [
          7960000,
          4210000,
          5560000,
          11900000,
          17500000
         ]
        },
        {
         "name": "Philosophy",
         "type": "bar",
         "uid": "19408428-3496-46f5-aff4-1b39b68fa7c9",
         "x": [
          "Mid-Career Median Salary",
          "Mid-Career 10th Percentile Salary",
          "Mid-Career 25th Percentile Salary",
          "Mid-Career 75th Percentile Salary",
          "Mid-Career 90th Percentile Salary"
         ],
         "y": [
          8120000,
          3550000,
          5280000,
          12700000,
          16800000
         ]
        },
        {
         "name": "Political Science",
         "type": "bar",
         "uid": "a71d2320-c1fd-4c17-8350-1b2164e27440",
         "x": [
          "Mid-Career Median Salary",
          "Mid-Career 10th Percentile Salary",
          "Mid-Career 25th Percentile Salary",
          "Mid-Career 75th Percentile Salary",
          "Mid-Career 90th Percentile Salary"
         ],
         "y": [
          7820000,
          4120000,
          5530000,
          11400000,
          16800000
         ]
        }
       ],
       "layout": {
        "barmode": "group",
        "margin": {
         "b": 200,
         "pad": 10,
         "t": 100
        },
        "title": "Major and Salary in Cluster Five",
        "width": 750,
        "xaxis": {
         "tickangle": 50,
         "title": "Career Period"
        },
        "yaxis": {
         "title": "Salary"
        }
       }
      },
      "text/html": [
       "<div id=\"495a51e0-c0fc-4e46-8c1a-aa4551dae609\" style=\"height: 525px; width: 750px;\" class=\"plotly-graph-div\"></div><script type=\"text/javascript\">require([\"plotly\"], function(Plotly) { window.PLOTLYENV=window.PLOTLYENV || {};window.PLOTLYENV.BASE_URL=\"https://plot.ly\";Plotly.newPlot(\"495a51e0-c0fc-4e46-8c1a-aa4551dae609\", [{\"name\": \"Accounting\", \"x\": [\"Mid-Career Median Salary\", \"Mid-Career 10th Percentile Salary\", \"Mid-Career 25th Percentile Salary\", \"Mid-Career 75th Percentile Salary\", \"Mid-Career 90th Percentile Salary\"], \"y\": [7710000.0, 4220000.0, 5610000.0, 10800000.0, 15200000.0], \"type\": \"bar\", \"uid\": \"37f6d2bd-ad85-40d8-93b4-558778618e29\"}, {\"name\": \"Agriculture\", \"x\": [\"Mid-Career Median Salary\", \"Mid-Career 10th Percentile Salary\", \"Mid-Career 25th Percentile Salary\", \"Mid-Career 75th Percentile Salary\", \"Mid-Career 90th Percentile Salary\"], \"y\": [7190000.0, 3630000.0, 5210000.0, 9630000.0, 15000000.0], \"type\": \"bar\", \"uid\": \"25128907-cfc4-4f94-8050-a13986223ec2\"}, {\"name\": \"Architecture\", \"x\": [\"Mid-Career Median Salary\", \"Mid-Career 10th Percentile Salary\", \"Mid-Career 25th Percentile Salary\", \"Mid-Career 75th Percentile Salary\", \"Mid-Career 90th Percentile Salary\"], \"y\": [7680000.0, 5060000.0, 6220000.0, 9700000.0, 13600000.0], \"type\": \"bar\", \"uid\": \"5149ea02-d412-467d-a3ac-b84bebcce1a7\"}, {\"name\": \"Business Management\", \"x\": [\"Mid-Career Median Salary\", \"Mid-Career 10th Percentile Salary\", \"Mid-Career 25th Percentile Salary\", \"Mid-Career 75th Percentile Salary\", \"Mid-Career 90th Percentile Salary\"], \"y\": [7210000.0, 3880000.0, 5150000.0, 10200000.0, 14700000.0], \"type\": \"bar\", \"uid\": \"d066fd06-1594-4e14-87be-cbe0d578bedb\"}, {\"name\": \"Chemistry\", \"x\": [\"Mid-Career Median Salary\", \"Mid-Career 10th Percentile Salary\", \"Mid-Career 25th Percentile Salary\", \"Mid-Career 75th Percentile Salary\", \"Mid-Career 90th Percentile Salary\"], \"y\": [7990000.0, 4530000.0, 6070000.0, 10800000.0, 14800000.0], \"type\": \"bar\", \"uid\": \"ee9e5e84-84f7-4bfa-80d0-4fa89627bf3f\"}, {\"name\": \"Geology\", \"x\": [\"Mid-Career Median Salary\", \"Mid-Career 10th Percentile Salary\", \"Mid-Career 25th Percentile Salary\", \"Mid-Career 75th Percentile Salary\", \"Mid-Career 90th Percentile Salary\"], \"y\": [7950000.0, 4500000.0, 5960000.0, 10100000.0, 15600000.0], \"type\": \"bar\", \"uid\": \"c27d3e20-4bca-42d7-b766-1a2a5e28f8b7\"}, {\"name\": \"History\", \"x\": [\"Mid-Career Median Salary\", \"Mid-Career 10th Percentile Salary\", \"Mid-Career 25th Percentile Salary\", \"Mid-Career 75th Percentile Salary\", \"Mid-Career 90th Percentile Salary\"], \"y\": [7100000.0, 3700000.0, 4920000.0, 10300000.0, 14900000.0], \"type\": \"bar\", \"uid\": \"2049d55b-0023-477c-a8f4-c86e078dc87f\"}, {\"name\": \"Information Technology (IT)\", \"x\": [\"Mid-Career Median Salary\", \"Mid-Career 10th Percentile Salary\", \"Mid-Career 25th Percentile Salary\", \"Mid-Career 75th Percentile Salary\", \"Mid-Career 90th Percentile Salary\"], \"y\": [7480000.0, 4450000.0, 5670000.0, 9670000.0, 12900000.0], \"type\": \"bar\", \"uid\": \"f74c22a3-bde9-4f7d-971b-b8da31eb3e28\"}, {\"name\": \"International Relations\", \"x\": [\"Mid-Career Median Salary\", \"Mid-Career 10th Percentile Salary\", \"Mid-Career 25th Percentile Salary\", \"Mid-Career 75th Percentile Salary\", \"Mid-Career 90th Percentile Salary\"], \"y\": [8090000.0, 3820000.0, 5600000.0, 11100000.0, 15700000.0], \"type\": \"bar\", \"uid\": \"7bdaf042-121f-4682-8865-6352f6f410b6\"}, {\"name\": \"Management Information Systems (MIS)\", \"x\": [\"Mid-Career Median Salary\", \"Mid-Career 10th Percentile Salary\", \"Mid-Career 25th Percentile Salary\", \"Mid-Career 75th Percentile Salary\", \"Mid-Career 90th Percentile Salary\"], \"y\": [8230000.0, 4530000.0, 6050000.0, 10800000.0, 14600000.0], \"type\": \"bar\", \"uid\": \"85a839d4-a3de-4e5d-a676-f7abc450b753\"}, {\"name\": \"Marketing\", \"x\": [\"Mid-Career Median Salary\", \"Mid-Career 10th Percentile Salary\", \"Mid-Career 25th Percentile Salary\", \"Mid-Career 75th Percentile Salary\", \"Mid-Career 90th Percentile Salary\"], \"y\": [7960000.0, 4210000.0, 5560000.0, 11900000.0, 17500000.0], \"type\": \"bar\", \"uid\": \"76c142db-0ef5-4f3d-91b9-d196b28ed821\"}, {\"name\": \"Philosophy\", \"x\": [\"Mid-Career Median Salary\", \"Mid-Career 10th Percentile Salary\", \"Mid-Career 25th Percentile Salary\", \"Mid-Career 75th Percentile Salary\", \"Mid-Career 90th Percentile Salary\"], \"y\": [8120000.0, 3550000.0, 5280000.0, 12700000.0, 16800000.0], \"type\": \"bar\", \"uid\": \"19408428-3496-46f5-aff4-1b39b68fa7c9\"}, {\"name\": \"Political Science\", \"x\": [\"Mid-Career Median Salary\", \"Mid-Career 10th Percentile Salary\", \"Mid-Career 25th Percentile Salary\", \"Mid-Career 75th Percentile Salary\", \"Mid-Career 90th Percentile Salary\"], \"y\": [7820000.0, 4120000.0, 5530000.0, 11400000.0, 16800000.0], \"type\": \"bar\", \"uid\": \"a71d2320-c1fd-4c17-8350-1b2164e27440\"}], {\"barmode\": \"group\", \"margin\": {\"b\": 200, \"pad\": 10, \"t\": 100}, \"title\": \"Major and Salary in Cluster Five\", \"width\": 750, \"xaxis\": {\"tickangle\": 50, \"title\": \"Career Period\"}, \"yaxis\": {\"title\": \"Salary\"}}, {\"showLink\": true, \"linkText\": \"Export to plot.ly\", \"plotlyServerURL\": \"https://plot.ly\"})});</script>"
      ],
      "text/vnd.plotly.v1+html": [
       "<div id=\"495a51e0-c0fc-4e46-8c1a-aa4551dae609\" style=\"height: 525px; width: 750px;\" class=\"plotly-graph-div\"></div><script type=\"text/javascript\">require([\"plotly\"], function(Plotly) { window.PLOTLYENV=window.PLOTLYENV || {};window.PLOTLYENV.BASE_URL=\"https://plot.ly\";Plotly.newPlot(\"495a51e0-c0fc-4e46-8c1a-aa4551dae609\", [{\"name\": \"Accounting\", \"x\": [\"Mid-Career Median Salary\", \"Mid-Career 10th Percentile Salary\", \"Mid-Career 25th Percentile Salary\", \"Mid-Career 75th Percentile Salary\", \"Mid-Career 90th Percentile Salary\"], \"y\": [7710000.0, 4220000.0, 5610000.0, 10800000.0, 15200000.0], \"type\": \"bar\", \"uid\": \"37f6d2bd-ad85-40d8-93b4-558778618e29\"}, {\"name\": \"Agriculture\", \"x\": [\"Mid-Career Median Salary\", \"Mid-Career 10th Percentile Salary\", \"Mid-Career 25th Percentile Salary\", \"Mid-Career 75th Percentile Salary\", \"Mid-Career 90th Percentile Salary\"], \"y\": [7190000.0, 3630000.0, 5210000.0, 9630000.0, 15000000.0], \"type\": \"bar\", \"uid\": \"25128907-cfc4-4f94-8050-a13986223ec2\"}, {\"name\": \"Architecture\", \"x\": [\"Mid-Career Median Salary\", \"Mid-Career 10th Percentile Salary\", \"Mid-Career 25th Percentile Salary\", \"Mid-Career 75th Percentile Salary\", \"Mid-Career 90th Percentile Salary\"], \"y\": [7680000.0, 5060000.0, 6220000.0, 9700000.0, 13600000.0], \"type\": \"bar\", \"uid\": \"5149ea02-d412-467d-a3ac-b84bebcce1a7\"}, {\"name\": \"Business Management\", \"x\": [\"Mid-Career Median Salary\", \"Mid-Career 10th Percentile Salary\", \"Mid-Career 25th Percentile Salary\", \"Mid-Career 75th Percentile Salary\", \"Mid-Career 90th Percentile Salary\"], \"y\": [7210000.0, 3880000.0, 5150000.0, 10200000.0, 14700000.0], \"type\": \"bar\", \"uid\": \"d066fd06-1594-4e14-87be-cbe0d578bedb\"}, {\"name\": \"Chemistry\", \"x\": [\"Mid-Career Median Salary\", \"Mid-Career 10th Percentile Salary\", \"Mid-Career 25th Percentile Salary\", \"Mid-Career 75th Percentile Salary\", \"Mid-Career 90th Percentile Salary\"], \"y\": [7990000.0, 4530000.0, 6070000.0, 10800000.0, 14800000.0], \"type\": \"bar\", \"uid\": \"ee9e5e84-84f7-4bfa-80d0-4fa89627bf3f\"}, {\"name\": \"Geology\", \"x\": [\"Mid-Career Median Salary\", \"Mid-Career 10th Percentile Salary\", \"Mid-Career 25th Percentile Salary\", \"Mid-Career 75th Percentile Salary\", \"Mid-Career 90th Percentile Salary\"], \"y\": [7950000.0, 4500000.0, 5960000.0, 10100000.0, 15600000.0], \"type\": \"bar\", \"uid\": \"c27d3e20-4bca-42d7-b766-1a2a5e28f8b7\"}, {\"name\": \"History\", \"x\": [\"Mid-Career Median Salary\", \"Mid-Career 10th Percentile Salary\", \"Mid-Career 25th Percentile Salary\", \"Mid-Career 75th Percentile Salary\", \"Mid-Career 90th Percentile Salary\"], \"y\": [7100000.0, 3700000.0, 4920000.0, 10300000.0, 14900000.0], \"type\": \"bar\", \"uid\": \"2049d55b-0023-477c-a8f4-c86e078dc87f\"}, {\"name\": \"Information Technology (IT)\", \"x\": [\"Mid-Career Median Salary\", \"Mid-Career 10th Percentile Salary\", \"Mid-Career 25th Percentile Salary\", \"Mid-Career 75th Percentile Salary\", \"Mid-Career 90th Percentile Salary\"], \"y\": [7480000.0, 4450000.0, 5670000.0, 9670000.0, 12900000.0], \"type\": \"bar\", \"uid\": \"f74c22a3-bde9-4f7d-971b-b8da31eb3e28\"}, {\"name\": \"International Relations\", \"x\": [\"Mid-Career Median Salary\", \"Mid-Career 10th Percentile Salary\", \"Mid-Career 25th Percentile Salary\", \"Mid-Career 75th Percentile Salary\", \"Mid-Career 90th Percentile Salary\"], \"y\": [8090000.0, 3820000.0, 5600000.0, 11100000.0, 15700000.0], \"type\": \"bar\", \"uid\": \"7bdaf042-121f-4682-8865-6352f6f410b6\"}, {\"name\": \"Management Information Systems (MIS)\", \"x\": [\"Mid-Career Median Salary\", \"Mid-Career 10th Percentile Salary\", \"Mid-Career 25th Percentile Salary\", \"Mid-Career 75th Percentile Salary\", \"Mid-Career 90th Percentile Salary\"], \"y\": [8230000.0, 4530000.0, 6050000.0, 10800000.0, 14600000.0], \"type\": \"bar\", \"uid\": \"85a839d4-a3de-4e5d-a676-f7abc450b753\"}, {\"name\": \"Marketing\", \"x\": [\"Mid-Career Median Salary\", \"Mid-Career 10th Percentile Salary\", \"Mid-Career 25th Percentile Salary\", \"Mid-Career 75th Percentile Salary\", \"Mid-Career 90th Percentile Salary\"], \"y\": [7960000.0, 4210000.0, 5560000.0, 11900000.0, 17500000.0], \"type\": \"bar\", \"uid\": \"76c142db-0ef5-4f3d-91b9-d196b28ed821\"}, {\"name\": \"Philosophy\", \"x\": [\"Mid-Career Median Salary\", \"Mid-Career 10th Percentile Salary\", \"Mid-Career 25th Percentile Salary\", \"Mid-Career 75th Percentile Salary\", \"Mid-Career 90th Percentile Salary\"], \"y\": [8120000.0, 3550000.0, 5280000.0, 12700000.0, 16800000.0], \"type\": \"bar\", \"uid\": \"19408428-3496-46f5-aff4-1b39b68fa7c9\"}, {\"name\": \"Political Science\", \"x\": [\"Mid-Career Median Salary\", \"Mid-Career 10th Percentile Salary\", \"Mid-Career 25th Percentile Salary\", \"Mid-Career 75th Percentile Salary\", \"Mid-Career 90th Percentile Salary\"], \"y\": [7820000.0, 4120000.0, 5530000.0, 11400000.0, 16800000.0], \"type\": \"bar\", \"uid\": \"a71d2320-c1fd-4c17-8350-1b2164e27440\"}], {\"barmode\": \"group\", \"margin\": {\"b\": 200, \"pad\": 10, \"t\": 100}, \"title\": \"Major and Salary in Cluster Five\", \"width\": 750, \"xaxis\": {\"tickangle\": 50, \"title\": \"Career Period\"}, \"yaxis\": {\"title\": \"Salary\"}}, {\"showLink\": true, \"linkText\": \"Export to plot.ly\", \"plotlyServerURL\": \"https://plot.ly\"})});</script>"
      ]
     },
     "metadata": {},
     "output_type": "display_data"
    }
   ],
   "source": [
    "cluster_five = cluster_five[['Undergraduate Major', 'Mid-Career Median Salary', 'Mid-Career 10th Percentile Salary', 'Mid-Career 25th Percentile Salary', 'Mid-Career 75th Percentile Salary', 'Mid-Career 90th Percentile Salary']]\n",
    "tidy = (\n",
    "    cluster_five.set_index('Undergraduate Major')\n",
    "      .stack()\n",
    "      .reset_index()\n",
    "      .rename(columns={'level_1': 'Variable', 0: 'Value'})\n",
    ")\n",
    "\n",
    "cluster_five_trace_list = []\n",
    "\n",
    "for label, label_df in tidy.groupby('Undergraduate Major'):\n",
    "    cluster_five_trace_list.append(\n",
    "        go.Bar(\n",
    "            x=label_df.Variable,\n",
    "            y=label_df.Value,\n",
    "            name=label\n",
    "        )\n",
    "    )\n",
    "\n",
    "layout = go.Layout(\n",
    "    barmode='group',\n",
    "    title='Major and Salary in Cluster Five',\n",
    "    xaxis = dict(title = 'Career Period', tickangle = 50),\n",
    "    yaxis = dict(title = 'Salary'),\n",
    "    width=800,\n",
    "    margin=go.layout.Margin(\n",
    "            b=200,\n",
    "            t=100,\n",
    "            pad=10\n",
    "        ),\n",
    ")\n",
    "fig = go.Figure(data= cluster_five_trace_list, layout=layout)\n",
    "py.offline.iplot(fig)\n"
   ]
  },
  {
   "cell_type": "code",
   "execution_count": null,
   "metadata": {},
   "outputs": [],
   "source": []
  },
  {
   "cell_type": "code",
   "execution_count": null,
   "metadata": {},
   "outputs": [],
   "source": []
  }
 ],
 "metadata": {
  "kernelspec": {
   "display_name": "Python 3",
   "language": "python",
   "name": "python3"
  },
  "language_info": {
   "codemirror_mode": {
    "name": "ipython",
    "version": 3
   },
   "file_extension": ".py",
   "mimetype": "text/x-python",
   "name": "python",
   "nbconvert_exporter": "python",
   "pygments_lexer": "ipython3",
   "version": "3.6.5"
  }
 },
 "nbformat": 4,
 "nbformat_minor": 2
}
